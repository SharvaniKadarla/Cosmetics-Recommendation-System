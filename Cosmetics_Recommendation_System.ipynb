{
  "cells": [
    {
      "cell_type": "markdown",
      "metadata": {
        "id": "Oqi5bch2ta6h"
      },
      "source": [
        "# Cosmetics Recommendation System"
      ]
    },
    {
      "cell_type": "markdown",
      "metadata": {
        "id": "UriDpuKaUA-b"
      },
      "source": [
        "This project is a cosmetics recommendation system based on the facial problems experienced.\n",
        "\n",
        "| Feature Name | Description |\n",
        "| --- | --- |\n",
        "|**product_href** | Product URL link |\n",
        "|**product_name** | Product name |\n",
        "|**product_type** |Type of product (Face Moisturizer, Cleanser, Mask And Peel & Eye Cream ) |\n",
        "|**brand** | Product brand |\n",
        "|**notable_effects** | What it's good for |\n",
        "|**skintype** | The suitable type of skin for the product (All, Normal, Oily, Combination, Dry, Sensitive) |\n",
        "|**price** | Product price (in INR Rupees:Rs) |\n",
        "|**description** | Product description |\n",
        "|**picture_src** | Product image URL link |"
      ]
    },
    {
      "cell_type": "markdown",
      "metadata": {
        "id": "ouwPHdPRtxZv"
      },
      "source": [
        "# Import Libraries"
      ]
    },
    {
      "cell_type": "code",
      "execution_count": 1,
      "metadata": {
        "id": "9uUdg5JHc3MW"
      },
      "outputs": [
        {
          "name": "stdout",
          "output_type": "stream",
          "text": [
            "WARNING:tensorflow:From c:\\Users\\sharv\\OneDrive\\Desktop\\B.E\\4TH YEAR 7TH SEM\\Major Project\\.venv\\Lib\\site-packages\\keras\\src\\losses.py:2976: The name tf.losses.sparse_softmax_cross_entropy is deprecated. Please use tf.compat.v1.losses.sparse_softmax_cross_entropy instead.\n",
            "\n"
          ]
        }
      ],
      "source": [
        "import tensorflow as tf\n",
        "import numpy as np\n",
        "import pandas as pd\n",
        "import matplotlib.pyplot as plt\n",
        "%matplotlib inline\n",
        "import plotly.express as px\n",
        "import plotly.graph_objects as go\n",
        "import plotly.offline as pyo\n",
        "import plotly.io as pio\n",
        "import seaborn as sns\n",
        "import missingno as mno\n",
        "from sklearn.feature_extraction.text import TfidfVectorizer"
      ]
    },
    {
      "cell_type": "markdown",
      "metadata": {
        "id": "yNe0pbhlvX24"
      },
      "source": [
        "# Data Exploration"
      ]
    },
    {
      "cell_type": "code",
      "execution_count": 2,
      "metadata": {
        "colab": {
          "base_uri": "https://localhost:8080/",
          "height": 727
        },
        "id": "RCGO_tTyvJl8",
        "outputId": "5d568f32-51f1-4f37-e447-328016ee5ece"
      },
      "outputs": [
        {
          "name": "stdout",
          "output_type": "stream",
          "text": [
            "<class 'pandas.core.frame.DataFrame'>\n",
            "RangeIndex: 966 entries, 0 to 965\n",
            "Data columns (total 8 columns):\n",
            " #   Column           Non-Null Count  Dtype \n",
            "---  ------           --------------  ----- \n",
            " 0   product_href     966 non-null    object\n",
            " 1   product_name     966 non-null    object\n",
            " 2   product_type     966 non-null    object\n",
            " 3   brand            966 non-null    object\n",
            " 4   notable_effects  966 non-null    object\n",
            " 5   skintype         966 non-null    object\n",
            " 6   price            966 non-null    object\n",
            " 7   picture_src      966 non-null    object\n",
            "dtypes: object(8)\n",
            "memory usage: 60.5+ KB\n"
          ]
        },
        {
          "data": {
            "text/html": [
              "<div>\n",
              "<style scoped>\n",
              "    .dataframe tbody tr th:only-of-type {\n",
              "        vertical-align: middle;\n",
              "    }\n",
              "\n",
              "    .dataframe tbody tr th {\n",
              "        vertical-align: top;\n",
              "    }\n",
              "\n",
              "    .dataframe thead th {\n",
              "        text-align: right;\n",
              "    }\n",
              "</style>\n",
              "<table border=\"1\" class=\"dataframe\">\n",
              "  <thead>\n",
              "    <tr style=\"text-align: right;\">\n",
              "      <th></th>\n",
              "      <th>product_href</th>\n",
              "      <th>product_name</th>\n",
              "      <th>product_type</th>\n",
              "      <th>brand</th>\n",
              "      <th>notable_effects</th>\n",
              "      <th>skintype</th>\n",
              "      <th>price</th>\n",
              "      <th>picture_src</th>\n",
              "    </tr>\n",
              "  </thead>\n",
              "  <tbody>\n",
              "    <tr>\n",
              "      <th>0</th>\n",
              "      <td>https://www.myntra.com/Face Moisturizer/lakme/...</td>\n",
              "      <td>Absolute Perfect Radiance Skin Lightening Day ...</td>\n",
              "      <td>Face Moisturizer</td>\n",
              "      <td>Lakme</td>\n",
              "      <td>General Care</td>\n",
              "      <td>Combination</td>\n",
              "      <td>Rs. 94</td>\n",
              "      <td>https://assets.myntassets.com/h_720,q_90,w_540...</td>\n",
              "    </tr>\n",
              "    <tr>\n",
              "      <th>1</th>\n",
              "      <td>https://www.myntra.com/Face Moisturizer/biotiq...</td>\n",
              "      <td>Bio Morning Nectar Flawless Sustainable Skin M...</td>\n",
              "      <td>Face Moisturizer</td>\n",
              "      <td>Biotique</td>\n",
              "      <td>Uneven Skin Tone,Hydration,Dark Spots</td>\n",
              "      <td>All</td>\n",
              "      <td>Rs. 214</td>\n",
              "      <td>https://assets.myntassets.com/h_720,q_90,w_540...</td>\n",
              "    </tr>\n",
              "    <tr>\n",
              "      <th>2</th>\n",
              "      <td>https://www.myntra.com/Face Moisturizer/nivea/...</td>\n",
              "      <td>Unisex Aloe Hydration Skin Cream 100 Ml</td>\n",
              "      <td>Face Moisturizer</td>\n",
              "      <td>Nivea</td>\n",
              "      <td>Dull Skin,Dryness,General Care</td>\n",
              "      <td>All</td>\n",
              "      <td>Rs. 199</td>\n",
              "      <td>https://assets.myntassets.com/h_720,q_90,w_540...</td>\n",
              "    </tr>\n",
              "    <tr>\n",
              "      <th>3</th>\n",
              "      <td>https://www.myntra.com/Face Moisturizer/vi-joh...</td>\n",
              "      <td>Women Set Of 5 Saffron Fairness Cream Advanced</td>\n",
              "      <td>Face Moisturizer</td>\n",
              "      <td>Vi-John</td>\n",
              "      <td>Softening,Smoothening,Sun Protection</td>\n",
              "      <td>All</td>\n",
              "      <td>Rs. 300</td>\n",
              "      <td>https://assets.myntassets.com/h_720,q_90,w_540...</td>\n",
              "    </tr>\n",
              "    <tr>\n",
              "      <th>4</th>\n",
              "      <td>https://www.myntra.com/Face Moisturizer/lakme/...</td>\n",
              "      <td>Peach Milk Soft Creme 150G</td>\n",
              "      <td>Face Moisturizer</td>\n",
              "      <td>Lakme</td>\n",
              "      <td>General Care</td>\n",
              "      <td>All</td>\n",
              "      <td>Rs. 240</td>\n",
              "      <td>https://assets.myntassets.com/h_720,q_90,w_540...</td>\n",
              "    </tr>\n",
              "  </tbody>\n",
              "</table>\n",
              "</div>"
            ],
            "text/plain": [
              "                                        product_href  \\\n",
              "0  https://www.myntra.com/Face Moisturizer/lakme/...   \n",
              "1  https://www.myntra.com/Face Moisturizer/biotiq...   \n",
              "2  https://www.myntra.com/Face Moisturizer/nivea/...   \n",
              "3  https://www.myntra.com/Face Moisturizer/vi-joh...   \n",
              "4  https://www.myntra.com/Face Moisturizer/lakme/...   \n",
              "\n",
              "                                        product_name      product_type  \\\n",
              "0  Absolute Perfect Radiance Skin Lightening Day ...  Face Moisturizer   \n",
              "1  Bio Morning Nectar Flawless Sustainable Skin M...  Face Moisturizer   \n",
              "2            Unisex Aloe Hydration Skin Cream 100 Ml  Face Moisturizer   \n",
              "3     Women Set Of 5 Saffron Fairness Cream Advanced  Face Moisturizer   \n",
              "4                         Peach Milk Soft Creme 150G  Face Moisturizer   \n",
              "\n",
              "      brand                        notable_effects     skintype    price  \\\n",
              "0     Lakme                           General Care  Combination   Rs. 94   \n",
              "1  Biotique  Uneven Skin Tone,Hydration,Dark Spots          All  Rs. 214   \n",
              "2     Nivea         Dull Skin,Dryness,General Care          All  Rs. 199   \n",
              "3   Vi-John   Softening,Smoothening,Sun Protection          All  Rs. 300   \n",
              "4     Lakme                           General Care          All  Rs. 240   \n",
              "\n",
              "                                         picture_src  \n",
              "0  https://assets.myntassets.com/h_720,q_90,w_540...  \n",
              "1  https://assets.myntassets.com/h_720,q_90,w_540...  \n",
              "2  https://assets.myntassets.com/h_720,q_90,w_540...  \n",
              "3  https://assets.myntassets.com/h_720,q_90,w_540...  \n",
              "4  https://assets.myntassets.com/h_720,q_90,w_540...  "
            ]
          },
          "execution_count": 2,
          "metadata": {},
          "output_type": "execute_result"
        }
      ],
      "source": [
        "skincare1 = pd.read_csv('Myntra final.csv', low_memory=False, encoding='latin-1')  #Here the dataset read is Myntra final.csv file\n",
        "skincare1.info()\n",
        "skincare1.head()"
      ]
    },
    {
      "cell_type": "code",
      "execution_count": 3,
      "metadata": {
        "colab": {
          "base_uri": "https://localhost:8080/"
        },
        "id": "WuPQcLj8g-p-",
        "outputId": "2d5c9749-e27e-4970-9283-6af8cc47e420"
      },
      "outputs": [
        {
          "data": {
            "text/plain": [
              "52"
            ]
          },
          "execution_count": 3,
          "metadata": {},
          "output_type": "execute_result"
        }
      ],
      "source": [
        "# Check duplicated rows\n",
        "skincare1.duplicated().sum()   #i.e In total there are 80 values and from that 28 are total in unique so the duplicate values are 52"
      ]
    },
    {
      "cell_type": "code",
      "execution_count": 4,
      "metadata": {},
      "outputs": [],
      "source": [
        "skincare = skincare1.drop_duplicates()"
      ]
    },
    {
      "cell_type": "code",
      "execution_count": 5,
      "metadata": {},
      "outputs": [
        {
          "data": {
            "text/plain": [
              "0"
            ]
          },
          "execution_count": 5,
          "metadata": {},
          "output_type": "execute_result"
        }
      ],
      "source": [
        "# Check duplicated rows\n",
        "skincare.duplicated().sum()"
      ]
    },
    {
      "cell_type": "code",
      "execution_count": 6,
      "metadata": {},
      "outputs": [
        {
          "name": "stdout",
          "output_type": "stream",
          "text": [
            "                                          product_href  \\\n",
            "0    https://www.myntra.com/Face Moisturizer/lakme/...   \n",
            "1    https://www.myntra.com/Face Moisturizer/biotiq...   \n",
            "2    https://www.myntra.com/Face Moisturizer/nivea/...   \n",
            "3    https://www.myntra.com/Face Moisturizer/vi-joh...   \n",
            "4    https://www.myntra.com/Face Moisturizer/lakme/...   \n",
            "..                                                 ...   \n",
            "961  https://www.myntra.com/Eye Cream/skinkraft/ski...   \n",
            "962  https://www.myntra.com/Eye Cream/casmara/casma...   \n",
            "963  https://www.myntra.com/Eye Cream/myglamm/mygla...   \n",
            "964  https://www.myntra.com/Eye Cream/makeup-revolu...   \n",
            "965  https://www.myntra.com/Eye Cream/yves-rocher/y...   \n",
            "\n",
            "                                          product_name      product_type  \\\n",
            "0    Absolute Perfect Radiance Skin Lightening Day ...  Face Moisturizer   \n",
            "1    Bio Morning Nectar Flawless Sustainable Skin M...  Face Moisturizer   \n",
            "2              Unisex Aloe Hydration Skin Cream 100 Ml  Face Moisturizer   \n",
            "3       Women Set Of 5 Saffron Fairness Cream Advanced  Face Moisturizer   \n",
            "4                           Peach Milk Soft Creme 150G  Face Moisturizer   \n",
            "..                                                 ...               ...   \n",
            "961  Vitamin C+E Under Eye Gel For Pigmented Under ...         Eye Cream   \n",
            "962                                    Eye Cream 15 Ml         Eye Cream   \n",
            "963  White Youthfull Hydrating Eye Cream With Water...         Eye Cream   \n",
            "964            Hydro Bank Hydrating & Cooling Eye Balm         Eye Cream   \n",
            "965  White Botanical Exceptional Youth Sustainable ...         Eye Cream   \n",
            "\n",
            "                        brand                            notable_effects  \\\n",
            "0                       Lakme                               General Care   \n",
            "1                    Biotique      Uneven Skin Tone,Hydration,Dark Spots   \n",
            "2                       Nivea             Dull Skin,Dryness,General Care   \n",
            "3                     Vi-John       Softening,Smoothening,Sun Protection   \n",
            "4                       Lakme                               General Care   \n",
            "..                        ...                                        ...   \n",
            "961                 Skinkraft                               Dark Circles   \n",
            "962                   Casmara           Fine Lines,Wrinkles,Dark Circles   \n",
            "963                   Myglamm                      Dark Circles,Eye Bags   \n",
            "964  Makeup Revolution London  Fine Lines,Wrinkles,Dark Circles,Eye Bags   \n",
            "965               Yves Rocher              Dark Circles,Eye Bags,Dryness   \n",
            "\n",
            "        skintype     price                                        picture_src  \n",
            "0    Combination    Rs. 94  https://assets.myntassets.com/h_720,q_90,w_540...  \n",
            "1            All   Rs. 214  https://assets.myntassets.com/h_720,q_90,w_540...  \n",
            "2            All   Rs. 199  https://assets.myntassets.com/h_720,q_90,w_540...  \n",
            "3            All   Rs. 300  https://assets.myntassets.com/h_720,q_90,w_540...  \n",
            "4            All   Rs. 240  https://assets.myntassets.com/h_720,q_90,w_540...  \n",
            "..           ...       ...                                                ...  \n",
            "961          All   Rs. 499  https://assets.myntassets.com/h_720,q_90,w_540...  \n",
            "962          All  Rs. 2300  https://assets.myntassets.com/h_1136,q_90,w_85...  \n",
            "963          All   Rs. 626  https://assets.myntassets.com/h_720,q_90,w_540...  \n",
            "964          All  Rs. 1500  https://assets.myntassets.com/h_720,q_90,w_540...  \n",
            "965          All  Rs. 1150  https://assets.myntassets.com/h_720,q_90,w_540...  \n",
            "\n",
            "[914 rows x 8 columns]\n"
          ]
        }
      ],
      "source": [
        "# Print the cleaned dataset\n",
        "print(skincare)"
      ]
    },
    {
      "cell_type": "code",
      "execution_count": 7,
      "metadata": {},
      "outputs": [],
      "source": [
        "# Assuming skincare is your DataFrame\n",
        "skincare.to_csv('Myntra final Cleaned.csv', index=False)"
      ]
    },
    {
      "cell_type": "code",
      "execution_count": 8,
      "metadata": {
        "colab": {
          "base_uri": "https://localhost:8080/",
          "height": 175
        },
        "id": "t90RAAJK2gCd",
        "outputId": "eee9ad3a-3724-43b7-d212-2e2f3796704c"
      },
      "outputs": [
        {
          "data": {
            "text/html": [
              "<div>\n",
              "<style scoped>\n",
              "    .dataframe tbody tr th:only-of-type {\n",
              "        vertical-align: middle;\n",
              "    }\n",
              "\n",
              "    .dataframe tbody tr th {\n",
              "        vertical-align: top;\n",
              "    }\n",
              "\n",
              "    .dataframe thead th {\n",
              "        text-align: right;\n",
              "    }\n",
              "</style>\n",
              "<table border=\"1\" class=\"dataframe\">\n",
              "  <thead>\n",
              "    <tr style=\"text-align: right;\">\n",
              "      <th></th>\n",
              "      <th>product_type</th>\n",
              "      <th>brand</th>\n",
              "      <th>notable_effects</th>\n",
              "      <th>skintype</th>\n",
              "    </tr>\n",
              "  </thead>\n",
              "  <tbody>\n",
              "    <tr>\n",
              "      <th>count</th>\n",
              "      <td>914</td>\n",
              "      <td>914</td>\n",
              "      <td>914</td>\n",
              "      <td>914</td>\n",
              "    </tr>\n",
              "    <tr>\n",
              "      <th>unique</th>\n",
              "      <td>4</td>\n",
              "      <td>117</td>\n",
              "      <td>397</td>\n",
              "      <td>6</td>\n",
              "    </tr>\n",
              "    <tr>\n",
              "      <th>top</th>\n",
              "      <td>Mask And Peel</td>\n",
              "      <td>Biotique</td>\n",
              "      <td>General Care</td>\n",
              "      <td>All</td>\n",
              "    </tr>\n",
              "    <tr>\n",
              "      <th>freq</th>\n",
              "      <td>283</td>\n",
              "      <td>82</td>\n",
              "      <td>77</td>\n",
              "      <td>641</td>\n",
              "    </tr>\n",
              "  </tbody>\n",
              "</table>\n",
              "</div>"
            ],
            "text/plain": [
              "         product_type     brand notable_effects skintype\n",
              "count             914       914             914      914\n",
              "unique              4       117             397        6\n",
              "top     Mask And Peel  Biotique    General Care      All\n",
              "freq              283        82              77      641"
            ]
          },
          "execution_count": 8,
          "metadata": {},
          "output_type": "execute_result"
        }
      ],
      "source": [
        "# Describe the features\n",
        "cat = ['product_type', 'brand', 'notable_effects', 'skintype']\n",
        "\n",
        "skincare[cat].describe()"
      ]
    },
    {
      "cell_type": "markdown",
      "metadata": {
        "id": "Cif6Q4j13Td4"
      },
      "source": [
        "**SUMMARY**\n",
        "1. In total, there are 966 products scraped from Myntra website.  \n",
        "2. Because this data was scraped and arranged, it looks neater and cleaner. There's no null value.  \n",
        "3. Unfortunately, there are 52 duplicate rows. Need to be removed.  \n",
        "4. Of 4 types of products, Mask And Peel is more hype/popular than others.   \n",
        "5. Biotique is the top brand, which means they have many kinds of products.  \n",
        "6. From many pairs of notable effects, 77 products are good for General Care.\n",
        "7. Looks like many skin care products suitable for all kinds of skin types.  "
      ]
    },
    {
      "cell_type": "markdown",
      "metadata": {
        "id": "GQ9kpjnw8HcT"
      },
      "source": [
        "## Exploratory Data Analysis (EDA)"
      ]
    },
    {
      "cell_type": "code",
      "execution_count": 9,
      "metadata": {
        "colab": {
          "base_uri": "https://localhost:8080/",
          "height": 363
        },
        "id": "ibGkbzLAbGcm",
        "outputId": "332036fb-fc63-4d57-f0f5-a4419eab372f"
      },
      "outputs": [
        {
          "data": {
            "text/html": [
              "<div>\n",
              "<style scoped>\n",
              "    .dataframe tbody tr th:only-of-type {\n",
              "        vertical-align: middle;\n",
              "    }\n",
              "\n",
              "    .dataframe tbody tr th {\n",
              "        vertical-align: top;\n",
              "    }\n",
              "\n",
              "    .dataframe thead th {\n",
              "        text-align: right;\n",
              "    }\n",
              "</style>\n",
              "<table border=\"1\" class=\"dataframe\">\n",
              "  <thead>\n",
              "    <tr style=\"text-align: right;\">\n",
              "      <th></th>\n",
              "      <th>Brand</th>\n",
              "      <th>Total Number of Products/Count</th>\n",
              "      <th>Percentage(%)</th>\n",
              "    </tr>\n",
              "  </thead>\n",
              "  <tbody>\n",
              "    <tr>\n",
              "      <th>0</th>\n",
              "      <td>Biotique</td>\n",
              "      <td>82</td>\n",
              "      <td>8.97</td>\n",
              "    </tr>\n",
              "    <tr>\n",
              "      <th>1</th>\n",
              "      <td>Innisfree</td>\n",
              "      <td>56</td>\n",
              "      <td>6.13</td>\n",
              "    </tr>\n",
              "    <tr>\n",
              "      <th>2</th>\n",
              "      <td>Garnier</td>\n",
              "      <td>43</td>\n",
              "      <td>4.70</td>\n",
              "    </tr>\n",
              "    <tr>\n",
              "      <th>3</th>\n",
              "      <td>L'Oréal</td>\n",
              "      <td>39</td>\n",
              "      <td>4.27</td>\n",
              "    </tr>\n",
              "    <tr>\n",
              "      <th>4</th>\n",
              "      <td>Lotus Herbals</td>\n",
              "      <td>35</td>\n",
              "      <td>3.83</td>\n",
              "    </tr>\n",
              "    <tr>\n",
              "      <th>5</th>\n",
              "      <td>The Face Shop</td>\n",
              "      <td>31</td>\n",
              "      <td>3.39</td>\n",
              "    </tr>\n",
              "    <tr>\n",
              "      <th>6</th>\n",
              "      <td>Olay</td>\n",
              "      <td>28</td>\n",
              "      <td>3.06</td>\n",
              "    </tr>\n",
              "    <tr>\n",
              "      <th>7</th>\n",
              "      <td>The Body Shop</td>\n",
              "      <td>27</td>\n",
              "      <td>2.95</td>\n",
              "    </tr>\n",
              "    <tr>\n",
              "      <th>8</th>\n",
              "      <td>Mamaearth</td>\n",
              "      <td>25</td>\n",
              "      <td>2.74</td>\n",
              "    </tr>\n",
              "    <tr>\n",
              "      <th>9</th>\n",
              "      <td>Good Vibes</td>\n",
              "      <td>22</td>\n",
              "      <td>2.41</td>\n",
              "    </tr>\n",
              "  </tbody>\n",
              "</table>\n",
              "</div>"
            ],
            "text/plain": [
              "           Brand  Total Number of Products/Count  Percentage(%)\n",
              "0       Biotique                              82           8.97\n",
              "1      Innisfree                              56           6.13\n",
              "2        Garnier                              43           4.70\n",
              "3        L'Oréal                              39           4.27\n",
              "4  Lotus Herbals                              35           3.83\n",
              "5  The Face Shop                              31           3.39\n",
              "6           Olay                              28           3.06\n",
              "7  The Body Shop                              27           2.95\n",
              "8      Mamaearth                              25           2.74\n",
              "9     Good Vibes                              22           2.41"
            ]
          },
          "execution_count": 9,
          "metadata": {},
          "output_type": "execute_result"
        }
      ],
      "source": [
        "brand_count = skincare['brand'].value_counts()\n",
        "counts_percentage = skincare['brand'].value_counts(1)*100\n",
        "brand_dataframe = pd.DataFrame({'Brand':brand_count.index,'Total Number of Products/Count':brand_count.values,'Percentage(%)':np.round(counts_percentage.values,2)})\n",
        "top_10_brands = brand_dataframe.head(10)\n",
        "top_10_brands"
      ]
    },
    {
      "cell_type": "code",
      "execution_count": 10,
      "metadata": {
        "colab": {
          "base_uri": "https://localhost:8080/",
          "height": 529
        },
        "id": "CkPH-hbE8kLa",
        "outputId": "758ea685-f323-4e3a-900a-f01bebdb1234"
      },
      "outputs": [
        {
          "name": "stderr",
          "output_type": "stream",
          "text": [
            "C:\\Users\\sharv\\AppData\\Local\\Temp\\ipykernel_1752\\3945331449.py:5: FutureWarning:\n",
            "\n",
            "\n",
            "\n",
            "Passing `palette` without assigning `hue` is deprecated and will be removed in v0.14.0. Assign the `x` variable to `hue` and set `legend=False` for the same effect.\n",
            "\n",
            "\n"
          ]
        },
        {
          "data": {
            "image/png": "[encoded data removed]",
            "text/plain": [
              "<Figure size 1000x500 with 1 Axes>"
            ]
          },
          "metadata": {},
          "output_type": "display_data"
        }
      ],
      "source": [
        "# Bar Graph representing the top 10 brands\n",
        "\n",
        "plt.figure(figsize=(10, 5))\n",
        "sns.set(style='white')\n",
        "ax = sns.barplot(x='Brand', y='Total Number of Products/Count', width = 0.6, data=top_10_brands, palette='magma')\n",
        "ax.set_title('Total Number of Products of Top 10 Brands', fontsize=15, fontweight='bold')\n",
        "ax.set_xlabel('Brand Names', fontsize=12, fontweight='medium')\n",
        "ax.set_ylabel('Total Number of Products(Count)', fontsize=12, fontweight='medium')\n",
        "\n",
        "for label in ax.containers:\n",
        "    ax.bar_label(label, fontweight='medium', fontsize=10)\n",
        "plt.xticks(rotation = 15, fontsize=10)\n",
        "plt.show()"
      ]
    },
    {
      "cell_type": "code",
      "execution_count": 11,
      "metadata": {
        "colab": {
          "base_uri": "https://localhost:8080/",
          "height": 206
        },
        "id": "4i9Mi-CuwcQL",
        "outputId": "5ff072a7-0c26-47e4-db38-0d953d3ccc83"
      },
      "outputs": [
        {
          "data": {
            "text/html": [
              "<div>\n",
              "<style scoped>\n",
              "    .dataframe tbody tr th:only-of-type {\n",
              "        vertical-align: middle;\n",
              "    }\n",
              "\n",
              "    .dataframe tbody tr th {\n",
              "        vertical-align: top;\n",
              "    }\n",
              "\n",
              "    .dataframe thead th {\n",
              "        text-align: right;\n",
              "    }\n",
              "</style>\n",
              "<table border=\"1\" class=\"dataframe\">\n",
              "  <thead>\n",
              "    <tr style=\"text-align: right;\">\n",
              "      <th></th>\n",
              "      <th>Total Number of Products/Count</th>\n",
              "      <th>Percentage(%)</th>\n",
              "    </tr>\n",
              "    <tr>\n",
              "      <th>product_type</th>\n",
              "      <th></th>\n",
              "      <th></th>\n",
              "    </tr>\n",
              "  </thead>\n",
              "  <tbody>\n",
              "    <tr>\n",
              "      <th>Mask And Peel</th>\n",
              "      <td>283</td>\n",
              "      <td>30.962801</td>\n",
              "    </tr>\n",
              "    <tr>\n",
              "      <th>Cleanser</th>\n",
              "      <td>268</td>\n",
              "      <td>29.321663</td>\n",
              "    </tr>\n",
              "    <tr>\n",
              "      <th>Face Moisturizer</th>\n",
              "      <td>264</td>\n",
              "      <td>28.884026</td>\n",
              "    </tr>\n",
              "    <tr>\n",
              "      <th>Eye Cream</th>\n",
              "      <td>99</td>\n",
              "      <td>10.831510</td>\n",
              "    </tr>\n",
              "  </tbody>\n",
              "</table>\n",
              "</div>"
            ],
            "text/plain": [
              "                  Total Number of Products/Count  Percentage(%)\n",
              "product_type                                                   \n",
              "Mask And Peel                                283      30.962801\n",
              "Cleanser                                     268      29.321663\n",
              "Face Moisturizer                             264      28.884026\n",
              "Eye Cream                                     99      10.831510"
            ]
          },
          "execution_count": 11,
          "metadata": {},
          "output_type": "execute_result"
        }
      ],
      "source": [
        "# Checking product type\n",
        "\n",
        "pd_type = pd.DataFrame()\n",
        "pd_type[\"Total Number of Products/Count\"] = skincare[\"product_type\"].value_counts()\n",
        "pd_type[\"Percentage(%)\"] = skincare[\"product_type\"].value_counts()/skincare.shape[0]*100\n",
        "pd_type"
      ]
    },
    {
      "cell_type": "code",
      "execution_count": 12,
      "metadata": {
        "colab": {
          "base_uri": "https://localhost:8080/",
          "height": 542
        },
        "id": "ALPIaMkaaZIq",
        "outputId": "c3b9f769-6731-4057-d02d-25a14fb80fe7"
      },
      "outputs": [
        {
          "data": {
            "application/vnd.plotly.v1+json": {
              "config": {
                "plotlyServerURL": "https://plot.ly"
              },
              "data": [
                {
                  "customdata": [
                    [
                      "Mask And Peel"
                    ],
                    [
                      "Cleanser"
                    ],
                    [
                      "Face Moisturizer"
                    ],
                    [
                      "Eye Cream"
                    ]
                  ],
                  "domain": {
                    "x": [
                      0,
                      1
                    ],
                    "y": [
                      0,
                      1
                    ]
                  },
                  "hole": 0.5,
                  "hovertemplate": "product_type=%{customdata[0]}<br>Total Number of Products/Count=%{value}<extra></extra>",
                  "labels": [
                    "Mask And Peel",
                    "Cleanser",
                    "Face Moisturizer",
                    "Eye Cream"
                  ],
                  "legendgroup": "",
                  "marker": {
                    "colors": [
                      "#003049",
                      "#D62828",
                      "#F77F00",
                      "#FCBF49"
                    ]
                  },
                  "name": "",
                  "pull": [
                    0.2,
                    0,
                    0,
                    0
                  ],
                  "rotation": 10,
                  "showlegend": true,
                  "textfont": {
                    "color": "dark blue",
                    "size": 15
                  },
                  "textinfo": "label+percent",
                  "textposition": "outside",
                  "type": "pie",
                  "values": [
                    283,
                    268,
                    264,
                    99
                  ]
                }
              ],
              "layout": {
                "annotations": [
                  {
                    "font": {
                      "color": "dark blue",
                      "size": 12
                    },
                    "showarrow": false,
                    "text": "Product Type"
                  }
                ],
                "legend": {
                  "tracegroupgap": 0
                },
                "margin": {
                  "t": 60
                },
                "piecolorway": [
                  "#003049",
                  "#D62828",
                  "#F77F00",
                  "#FCBF49",
                  "#E9D8A6"
                ],
                "template": {
                  "data": {
                    "bar": [
                      {
                        "error_x": {
                          "color": "#2a3f5f"
                        },
                        "error_y": {
                          "color": "#2a3f5f"
                        },
                        "marker": {
                          "line": {
                            "color": "#E5ECF6",
                            "width": 0.5
                          },
                          "pattern": {
                            "fillmode": "overlay",
                            "size": 10,
                            "solidity": 0.2
                          }
                        },
                        "type": "bar"
                      }
                    ],
                    "barpolar": [
                      {
                        "marker": {
                          "line": {
                            "color": "#E5ECF6",
                            "width": 0.5
                          },
                          "pattern": {
                            "fillmode": "overlay",
                            "size": 10,
                            "solidity": 0.2
                          }
                        },
                        "type": "barpolar"
                      }
                    ],
                    "carpet": [
                      {
                        "aaxis": {
                          "endlinecolor": "#2a3f5f",
                          "gridcolor": "white",
                          "linecolor": "white",
                          "minorgridcolor": "white",
                          "startlinecolor": "#2a3f5f"
                        },
                        "baxis": {
                          "endlinecolor": "#2a3f5f",
                          "gridcolor": "white",
                          "linecolor": "white",
                          "minorgridcolor": "white",
                          "startlinecolor": "#2a3f5f"
                        },
                        "type": "carpet"
                      }
                    ],
                    "choropleth": [
                      {
                        "colorbar": {
                          "outlinewidth": 0,
                          "ticks": ""
                        },
                        "type": "choropleth"
                      }
                    ],
                    "contour": [
                      {
                        "colorbar": {
                          "outlinewidth": 0,
                          "ticks": ""
                        },
                        "colorscale": [
                          [
                            0,
                            "#0d0887"
                          ],
                          [
                            0.1111111111111111,
                            "#46039f"
                          ],
                          [
                            0.2222222222222222,
                            "#7201a8"
                          ],
                          [
                            0.3333333333333333,
                            "#9c179e"
                          ],
                          [
                            0.4444444444444444,
                            "#bd3786"
                          ],
                          [
                            0.5555555555555556,
                            "#d8576b"
                          ],
                          [
                            0.6666666666666666,
                            "#ed7953"
                          ],
                          [
                            0.7777777777777778,
                            "#fb9f3a"
                          ],
                          [
                            0.8888888888888888,
                            "#fdca26"
                          ],
                          [
                            1,
                            "#f0f921"
                          ]
                        ],
                        "type": "contour"
                      }
                    ],
                    "contourcarpet": [
                      {
                        "colorbar": {
                          "outlinewidth": 0,
                          "ticks": ""
                        },
                        "type": "contourcarpet"
                      }
                    ],
                    "heatmap": [
                      {
                        "colorbar": {
                          "outlinewidth": 0,
                          "ticks": ""
                        },
                        "colorscale": [
                          [
                            0,
                            "#0d0887"
                          ],
                          [
                            0.1111111111111111,
                            "#46039f"
                          ],
                          [
                            0.2222222222222222,
                            "#7201a8"
                          ],
                          [
                            0.3333333333333333,
                            "#9c179e"
                          ],
                          [
                            0.4444444444444444,
                            "#bd3786"
                          ],
                          [
                            0.5555555555555556,
                            "#d8576b"
                          ],
                          [
                            0.6666666666666666,
                            "#ed7953"
                          ],
                          [
                            0.7777777777777778,
                            "#fb9f3a"
                          ],
                          [
                            0.8888888888888888,
                            "#fdca26"
                          ],
                          [
                            1,
                            "#f0f921"
                          ]
                        ],
                        "type": "heatmap"
                      }
                    ],
                    "heatmapgl": [
                      {
                        "colorbar": {
                          "outlinewidth": 0,
                          "ticks": ""
                        },
                        "colorscale": [
                          [
                            0,
                            "#0d0887"
                          ],
                          [
                            0.1111111111111111,
                            "#46039f"
                          ],
                          [
                            0.2222222222222222,
                            "#7201a8"
                          ],
                          [
                            0.3333333333333333,
                            "#9c179e"
                          ],
                          [
                            0.4444444444444444,
                            "#bd3786"
                          ],
                          [
                            0.5555555555555556,
                            "#d8576b"
                          ],
                          [
                            0.6666666666666666,
                            "#ed7953"
                          ],
                          [
                            0.7777777777777778,
                            "#fb9f3a"
                          ],
                          [
                            0.8888888888888888,
                            "#fdca26"
                          ],
                          [
                            1,
                            "#f0f921"
                          ]
                        ],
                        "type": "heatmapgl"
                      }
                    ],
                    "histogram": [
                      {
                        "marker": {
                          "pattern": {
                            "fillmode": "overlay",
                            "size": 10,
                            "solidity": 0.2
                          }
                        },
                        "type": "histogram"
                      }
                    ],
                    "histogram2d": [
                      {
                        "colorbar": {
                          "outlinewidth": 0,
                          "ticks": ""
                        },
                        "colorscale": [
                          [
                            0,
                            "#0d0887"
                          ],
                          [
                            0.1111111111111111,
                            "#46039f"
                          ],
                          [
                            0.2222222222222222,
                            "#7201a8"
                          ],
                          [
                            0.3333333333333333,
                            "#9c179e"
                          ],
                          [
                            0.4444444444444444,
                            "#bd3786"
                          ],
                          [
                            0.5555555555555556,
                            "#d8576b"
                          ],
                          [
                            0.6666666666666666,
                            "#ed7953"
                          ],
                          [
                            0.7777777777777778,
                            "#fb9f3a"
                          ],
                          [
                            0.8888888888888888,
                            "#fdca26"
                          ],
                          [
                            1,
                            "#f0f921"
                          ]
                        ],
                        "type": "histogram2d"
                      }
                    ],
                    "histogram2dcontour": [
                      {
                        "colorbar": {
                          "outlinewidth": 0,
                          "ticks": ""
                        },
                        "colorscale": [
                          [
                            0,
                            "#0d0887"
                          ],
                          [
                            0.1111111111111111,
                            "#46039f"
                          ],
                          [
                            0.2222222222222222,
                            "#7201a8"
                          ],
                          [
                            0.3333333333333333,
                            "#9c179e"
                          ],
                          [
                            0.4444444444444444,
                            "#bd3786"
                          ],
                          [
                            0.5555555555555556,
                            "#d8576b"
                          ],
                          [
                            0.6666666666666666,
                            "#ed7953"
                          ],
                          [
                            0.7777777777777778,
                            "#fb9f3a"
                          ],
                          [
                            0.8888888888888888,
                            "#fdca26"
                          ],
                          [
                            1,
                            "#f0f921"
                          ]
                        ],
                        "type": "histogram2dcontour"
                      }
                    ],
                    "mesh3d": [
                      {
                        "colorbar": {
                          "outlinewidth": 0,
                          "ticks": ""
                        },
                        "type": "mesh3d"
                      }
                    ],
                    "parcoords": [
                      {
                        "line": {
                          "colorbar": {
                            "outlinewidth": 0,
                            "ticks": ""
                          }
                        },
                        "type": "parcoords"
                      }
                    ],
                    "pie": [
                      {
                        "automargin": true,
                        "type": "pie"
                      }
                    ],
                    "scatter": [
                      {
                        "fillpattern": {
                          "fillmode": "overlay",
                          "size": 10,
                          "solidity": 0.2
                        },
                        "type": "scatter"
                      }
                    ],
                    "scatter3d": [
                      {
                        "line": {
                          "colorbar": {
                            "outlinewidth": 0,
                            "ticks": ""
                          }
                        },
                        "marker": {
                          "colorbar": {
                            "outlinewidth": 0,
                            "ticks": ""
                          }
                        },
                        "type": "scatter3d"
                      }
                    ],
                    "scattercarpet": [
                      {
                        "marker": {
                          "colorbar": {
                            "outlinewidth": 0,
                            "ticks": ""
                          }
                        },
                        "type": "scattercarpet"
                      }
                    ],
                    "scattergeo": [
                      {
                        "marker": {
                          "colorbar": {
                            "outlinewidth": 0,
                            "ticks": ""
                          }
                        },
                        "type": "scattergeo"
                      }
                    ],
                    "scattergl": [
                      {
                        "marker": {
                          "colorbar": {
                            "outlinewidth": 0,
                            "ticks": ""
                          }
                        },
                        "type": "scattergl"
                      }
                    ],
                    "scattermapbox": [
                      {
                        "marker": {
                          "colorbar": {
                            "outlinewidth": 0,
                            "ticks": ""
                          }
                        },
                        "type": "scattermapbox"
                      }
                    ],
                    "scatterpolar": [
                      {
                        "marker": {
                          "colorbar": {
                            "outlinewidth": 0,
                            "ticks": ""
                          }
                        },
                        "type": "scatterpolar"
                      }
                    ],
                    "scatterpolargl": [
                      {
                        "marker": {
                          "colorbar": {
                            "outlinewidth": 0,
                            "ticks": ""
                          }
                        },
                        "type": "scatterpolargl"
                      }
                    ],
                    "scatterternary": [
                      {
                        "marker": {
                          "colorbar": {
                            "outlinewidth": 0,
                            "ticks": ""
                          }
                        },
                        "type": "scatterternary"
                      }
                    ],
                    "surface": [
                      {
                        "colorbar": {
                          "outlinewidth": 0,
                          "ticks": ""
                        },
                        "colorscale": [
                          [
                            0,
                            "#0d0887"
                          ],
                          [
                            0.1111111111111111,
                            "#46039f"
                          ],
                          [
                            0.2222222222222222,
                            "#7201a8"
                          ],
                          [
                            0.3333333333333333,
                            "#9c179e"
                          ],
                          [
                            0.4444444444444444,
                            "#bd3786"
                          ],
                          [
                            0.5555555555555556,
                            "#d8576b"
                          ],
                          [
                            0.6666666666666666,
                            "#ed7953"
                          ],
                          [
                            0.7777777777777778,
                            "#fb9f3a"
                          ],
                          [
                            0.8888888888888888,
                            "#fdca26"
                          ],
                          [
                            1,
                            "#f0f921"
                          ]
                        ],
                        "type": "surface"
                      }
                    ],
                    "table": [
                      {
                        "cells": {
                          "fill": {
                            "color": "#EBF0F8"
                          },
                          "line": {
                            "color": "white"
                          }
                        },
                        "header": {
                          "fill": {
                            "color": "#C8D4E3"
                          },
                          "line": {
                            "color": "white"
                          }
                        },
                        "type": "table"
                      }
                    ]
                  },
                  "layout": {
                    "annotationdefaults": {
                      "arrowcolor": "#2a3f5f",
                      "arrowhead": 0,
                      "arrowwidth": 1
                    },
                    "autotypenumbers": "strict",
                    "coloraxis": {
                      "colorbar": {
                        "outlinewidth": 0,
                        "ticks": ""
                      }
                    },
                    "colorscale": {
                      "diverging": [
                        [
                          0,
                          "#8e0152"
                        ],
                        [
                          0.1,
                          "#c51b7d"
                        ],
                        [
                          0.2,
                          "#de77ae"
                        ],
                        [
                          0.3,
                          "#f1b6da"
                        ],
                        [
                          0.4,
                          "#fde0ef"
                        ],
                        [
                          0.5,
                          "#f7f7f7"
                        ],
                        [
                          0.6,
                          "#e6f5d0"
                        ],
                        [
                          0.7,
                          "#b8e186"
                        ],
                        [
                          0.8,
                          "#7fbc41"
                        ],
                        [
                          0.9,
                          "#4d9221"
                        ],
                        [
                          1,
                          "#276419"
                        ]
                      ],
                      "sequential": [
                        [
                          0,
                          "#0d0887"
                        ],
                        [
                          0.1111111111111111,
                          "#46039f"
                        ],
                        [
                          0.2222222222222222,
                          "#7201a8"
                        ],
                        [
                          0.3333333333333333,
                          "#9c179e"
                        ],
                        [
                          0.4444444444444444,
                          "#bd3786"
                        ],
                        [
                          0.5555555555555556,
                          "#d8576b"
                        ],
                        [
                          0.6666666666666666,
                          "#ed7953"
                        ],
                        [
                          0.7777777777777778,
                          "#fb9f3a"
                        ],
                        [
                          0.8888888888888888,
                          "#fdca26"
                        ],
                        [
                          1,
                          "#f0f921"
                        ]
                      ],
                      "sequentialminus": [
                        [
                          0,
                          "#0d0887"
                        ],
                        [
                          0.1111111111111111,
                          "#46039f"
                        ],
                        [
                          0.2222222222222222,
                          "#7201a8"
                        ],
                        [
                          0.3333333333333333,
                          "#9c179e"
                        ],
                        [
                          0.4444444444444444,
                          "#bd3786"
                        ],
                        [
                          0.5555555555555556,
                          "#d8576b"
                        ],
                        [
                          0.6666666666666666,
                          "#ed7953"
                        ],
                        [
                          0.7777777777777778,
                          "#fb9f3a"
                        ],
                        [
                          0.8888888888888888,
                          "#fdca26"
                        ],
                        [
                          1,
                          "#f0f921"
                        ]
                      ]
                    },
                    "colorway": [
                      "#636efa",
                      "#EF553B",
                      "#00cc96",
                      "#ab63fa",
                      "#FFA15A",
                      "#19d3f3",
                      "#FF6692",
                      "#B6E880",
                      "#FF97FF",
                      "#FECB52"
                    ],
                    "font": {
                      "color": "#2a3f5f"
                    },
                    "geo": {
                      "bgcolor": "white",
                      "lakecolor": "white",
                      "landcolor": "#E5ECF6",
                      "showlakes": true,
                      "showland": true,
                      "subunitcolor": "white"
                    },
                    "hoverlabel": {
                      "align": "left"
                    },
                    "hovermode": "closest",
                    "mapbox": {
                      "style": "light"
                    },
                    "paper_bgcolor": "white",
                    "plot_bgcolor": "#E5ECF6",
                    "polar": {
                      "angularaxis": {
                        "gridcolor": "white",
                        "linecolor": "white",
                        "ticks": ""
                      },
                      "bgcolor": "#E5ECF6",
                      "radialaxis": {
                        "gridcolor": "white",
                        "linecolor": "white",
                        "ticks": ""
                      }
                    },
                    "scene": {
                      "xaxis": {
                        "backgroundcolor": "#E5ECF6",
                        "gridcolor": "white",
                        "gridwidth": 2,
                        "linecolor": "white",
                        "showbackground": true,
                        "ticks": "",
                        "zerolinecolor": "white"
                      },
                      "yaxis": {
                        "backgroundcolor": "#E5ECF6",
                        "gridcolor": "white",
                        "gridwidth": 2,
                        "linecolor": "white",
                        "showbackground": true,
                        "ticks": "",
                        "zerolinecolor": "white"
                      },
                      "zaxis": {
                        "backgroundcolor": "#E5ECF6",
                        "gridcolor": "white",
                        "gridwidth": 2,
                        "linecolor": "white",
                        "showbackground": true,
                        "ticks": "",
                        "zerolinecolor": "white"
                      }
                    },
                    "shapedefaults": {
                      "line": {
                        "color": "#2a3f5f"
                      }
                    },
                    "ternary": {
                      "aaxis": {
                        "gridcolor": "white",
                        "linecolor": "white",
                        "ticks": ""
                      },
                      "baxis": {
                        "gridcolor": "white",
                        "linecolor": "white",
                        "ticks": ""
                      },
                      "bgcolor": "#E5ECF6",
                      "caxis": {
                        "gridcolor": "white",
                        "linecolor": "white",
                        "ticks": ""
                      }
                    },
                    "title": {
                      "x": 0.05
                    },
                    "xaxis": {
                      "automargin": true,
                      "gridcolor": "white",
                      "linecolor": "white",
                      "ticks": "",
                      "title": {
                        "standoff": 15
                      },
                      "zerolinecolor": "white",
                      "zerolinewidth": 2
                    },
                    "yaxis": {
                      "automargin": true,
                      "gridcolor": "white",
                      "linecolor": "white",
                      "ticks": "",
                      "title": {
                        "standoff": 15
                      },
                      "zerolinecolor": "white",
                      "zerolinewidth": 2
                    }
                  }
                },
                "title": {
                  "text": "Pie Chart Illustrating the Distribution of Product Types by Percentage",
                  "x": 0.5,
                  "xanchor": "center",
                  "y": 0.95,
                  "yanchor": "top"
                }
              }
            }
          },
          "metadata": {},
          "output_type": "display_data"
        }
      ],
      "source": [
        "fig = px.pie(pd_type, values = 'Total Number of Products/Count', color = pd_type.index, names = pd_type.index,\n",
        "             color_discrete_sequence = ['#003049','#D62828', '#F77F00', '#FCBF49', '#E9D8A6'], hole = 0.5)\n",
        "fig.update_traces(textposition = 'outside', textfont = dict(color = 'dark blue', size = 15), textinfo = 'label+percent', pull = [0.2,0,0,0], rotation = 10)\n",
        "fig.add_annotation (text = 'Product Type', showarrow = False, font = dict(size = 12, color='dark blue'))\n",
        "fig.update_layout(title={'text':'Pie Chart Illustrating the Distribution of Product Types by Percentage', 'y':0.95, 'x':0.5, 'xanchor': 'center', 'yanchor': 'top'})\n",
        "fig.show()"
      ]
    },
    {
      "cell_type": "code",
      "execution_count": 13,
      "metadata": {
        "colab": {
          "base_uri": "https://localhost:8080/",
          "height": 519
        },
        "id": "bSr626obZlen",
        "outputId": "fe34c6a9-8955-48e8-8154-5bec8a04abf6"
      },
      "outputs": [
        {
          "data": {
            "text/html": [
              "<div>\n",
              "<style scoped>\n",
              "    .dataframe tbody tr th:only-of-type {\n",
              "        vertical-align: middle;\n",
              "    }\n",
              "\n",
              "    .dataframe tbody tr th {\n",
              "        vertical-align: top;\n",
              "    }\n",
              "\n",
              "    .dataframe thead th {\n",
              "        text-align: right;\n",
              "    }\n",
              "</style>\n",
              "<table border=\"1\" class=\"dataframe\">\n",
              "  <thead>\n",
              "    <tr style=\"text-align: right;\">\n",
              "      <th></th>\n",
              "      <th>Skin_type</th>\n",
              "      <th>Counts</th>\n",
              "      <th>Percent%</th>\n",
              "    </tr>\n",
              "  </thead>\n",
              "  <tbody>\n",
              "    <tr>\n",
              "      <th>0</th>\n",
              "      <td>All</td>\n",
              "      <td>641</td>\n",
              "      <td>70.13</td>\n",
              "    </tr>\n",
              "    <tr>\n",
              "      <th>1</th>\n",
              "      <td>Normal</td>\n",
              "      <td>137</td>\n",
              "      <td>14.99</td>\n",
              "    </tr>\n",
              "    <tr>\n",
              "      <th>2</th>\n",
              "      <td>Oily</td>\n",
              "      <td>86</td>\n",
              "      <td>9.41</td>\n",
              "    </tr>\n",
              "    <tr>\n",
              "      <th>3</th>\n",
              "      <td>Combination</td>\n",
              "      <td>19</td>\n",
              "      <td>2.08</td>\n",
              "    </tr>\n",
              "    <tr>\n",
              "      <th>4</th>\n",
              "      <td>Dry</td>\n",
              "      <td>19</td>\n",
              "      <td>2.08</td>\n",
              "    </tr>\n",
              "    <tr>\n",
              "      <th>5</th>\n",
              "      <td>Sensitive</td>\n",
              "      <td>12</td>\n",
              "      <td>1.31</td>\n",
              "    </tr>\n",
              "  </tbody>\n",
              "</table>\n",
              "</div>"
            ],
            "text/plain": [
              "     Skin_type  Counts  Percent%\n",
              "0          All     641     70.13\n",
              "1       Normal     137     14.99\n",
              "2         Oily      86      9.41\n",
              "3  Combination      19      2.08\n",
              "4          Dry      19      2.08\n",
              "5    Sensitive      12      1.31"
            ]
          },
          "execution_count": 13,
          "metadata": {},
          "output_type": "execute_result"
        }
      ],
      "source": [
        "# Skin Type Suitable For the Product\n",
        "counts = skincare['skintype'].value_counts()\n",
        "counts_percentage = skincare['skintype'].value_counts(1)*100\n",
        "counts_df = pd.DataFrame({'Skin_type':counts.index,'Counts':counts.values,'Percent%':np.round(counts_percentage.values,2)})\n",
        "counts_df"
      ]
    },
    {
      "cell_type": "code",
      "execution_count": 14,
      "metadata": {
        "colab": {
          "base_uri": "https://localhost:8080/",
          "height": 617
        },
        "id": "WMujC7-lUYnL",
        "outputId": "3045f32f-df5e-4e62-932f-be737e11cce7"
      },
      "outputs": [
        {
          "data": {
            "application/vnd.plotly.v1+json": {
              "config": {
                "plotlyServerURL": "https://plot.ly"
              },
              "data": [
                {
                  "alignmentgroup": "True",
                  "hovertemplate": "Skin_type=%{x}<br>Counts=%{y}<br>Percent%=%{marker.color}<extra></extra>",
                  "legendgroup": "",
                  "marker": {
                    "color": [
                      70.13,
                      14.99,
                      9.41,
                      2.08,
                      2.08,
                      1.31
                    ],
                    "coloraxis": "coloraxis",
                    "pattern": {
                      "shape": ""
                    }
                  },
                  "name": "",
                  "offsetgroup": "",
                  "orientation": "v",
                  "showlegend": false,
                  "textposition": "auto",
                  "texttemplate": "%{y}",
                  "type": "bar",
                  "x": [
                    "All",
                    "Normal",
                    "Oily",
                    "Combination",
                    "Dry",
                    "Sensitive"
                  ],
                  "xaxis": "x",
                  "y": [
                    641,
                    137,
                    86,
                    19,
                    19,
                    12
                  ],
                  "yaxis": "y"
                }
              ],
              "layout": {
                "barmode": "relative",
                "coloraxis": {
                  "colorbar": {
                    "title": {
                      "text": "Percent%"
                    }
                  },
                  "colorscale": [
                    [
                      0,
                      "#fcffa4"
                    ],
                    [
                      0.1111111111111111,
                      "#f7d13d"
                    ],
                    [
                      0.2222222222222222,
                      "#fb9b06"
                    ],
                    [
                      0.3333333333333333,
                      "#ed6925"
                    ],
                    [
                      0.4444444444444444,
                      "#cf4446"
                    ],
                    [
                      0.5555555555555556,
                      "#a52c60"
                    ],
                    [
                      0.6666666666666666,
                      "#781c6d"
                    ],
                    [
                      0.7777777777777778,
                      "#4a0c6b"
                    ],
                    [
                      0.8888888888888888,
                      "#1b0c41"
                    ],
                    [
                      1,
                      "#000004"
                    ]
                  ]
                },
                "height": 600,
                "legend": {
                  "tracegroupgap": 0
                },
                "plot_bgcolor": "#FFFCF2",
                "template": {
                  "data": {
                    "bar": [
                      {
                        "error_x": {
                          "color": "#2a3f5f"
                        },
                        "error_y": {
                          "color": "#2a3f5f"
                        },
                        "marker": {
                          "line": {
                            "color": "#E5ECF6",
                            "width": 0.5
                          },
                          "pattern": {
                            "fillmode": "overlay",
                            "size": 10,
                            "solidity": 0.2
                          }
                        },
                        "type": "bar"
                      }
                    ],
                    "barpolar": [
                      {
                        "marker": {
                          "line": {
                            "color": "#E5ECF6",
                            "width": 0.5
                          },
                          "pattern": {
                            "fillmode": "overlay",
                            "size": 10,
                            "solidity": 0.2
                          }
                        },
                        "type": "barpolar"
                      }
                    ],
                    "carpet": [
                      {
                        "aaxis": {
                          "endlinecolor": "#2a3f5f",
                          "gridcolor": "white",
                          "linecolor": "white",
                          "minorgridcolor": "white",
                          "startlinecolor": "#2a3f5f"
                        },
                        "baxis": {
                          "endlinecolor": "#2a3f5f",
                          "gridcolor": "white",
                          "linecolor": "white",
                          "minorgridcolor": "white",
                          "startlinecolor": "#2a3f5f"
                        },
                        "type": "carpet"
                      }
                    ],
                    "choropleth": [
                      {
                        "colorbar": {
                          "outlinewidth": 0,
                          "ticks": ""
                        },
                        "type": "choropleth"
                      }
                    ],
                    "contour": [
                      {
                        "colorbar": {
                          "outlinewidth": 0,
                          "ticks": ""
                        },
                        "colorscale": [
                          [
                            0,
                            "#0d0887"
                          ],
                          [
                            0.1111111111111111,
                            "#46039f"
                          ],
                          [
                            0.2222222222222222,
                            "#7201a8"
                          ],
                          [
                            0.3333333333333333,
                            "#9c179e"
                          ],
                          [
                            0.4444444444444444,
                            "#bd3786"
                          ],
                          [
                            0.5555555555555556,
                            "#d8576b"
                          ],
                          [
                            0.6666666666666666,
                            "#ed7953"
                          ],
                          [
                            0.7777777777777778,
                            "#fb9f3a"
                          ],
                          [
                            0.8888888888888888,
                            "#fdca26"
                          ],
                          [
                            1,
                            "#f0f921"
                          ]
                        ],
                        "type": "contour"
                      }
                    ],
                    "contourcarpet": [
                      {
                        "colorbar": {
                          "outlinewidth": 0,
                          "ticks": ""
                        },
                        "type": "contourcarpet"
                      }
                    ],
                    "heatmap": [
                      {
                        "colorbar": {
                          "outlinewidth": 0,
                          "ticks": ""
                        },
                        "colorscale": [
                          [
                            0,
                            "#0d0887"
                          ],
                          [
                            0.1111111111111111,
                            "#46039f"
                          ],
                          [
                            0.2222222222222222,
                            "#7201a8"
                          ],
                          [
                            0.3333333333333333,
                            "#9c179e"
                          ],
                          [
                            0.4444444444444444,
                            "#bd3786"
                          ],
                          [
                            0.5555555555555556,
                            "#d8576b"
                          ],
                          [
                            0.6666666666666666,
                            "#ed7953"
                          ],
                          [
                            0.7777777777777778,
                            "#fb9f3a"
                          ],
                          [
                            0.8888888888888888,
                            "#fdca26"
                          ],
                          [
                            1,
                            "#f0f921"
                          ]
                        ],
                        "type": "heatmap"
                      }
                    ],
                    "heatmapgl": [
                      {
                        "colorbar": {
                          "outlinewidth": 0,
                          "ticks": ""
                        },
                        "colorscale": [
                          [
                            0,
                            "#0d0887"
                          ],
                          [
                            0.1111111111111111,
                            "#46039f"
                          ],
                          [
                            0.2222222222222222,
                            "#7201a8"
                          ],
                          [
                            0.3333333333333333,
                            "#9c179e"
                          ],
                          [
                            0.4444444444444444,
                            "#bd3786"
                          ],
                          [
                            0.5555555555555556,
                            "#d8576b"
                          ],
                          [
                            0.6666666666666666,
                            "#ed7953"
                          ],
                          [
                            0.7777777777777778,
                            "#fb9f3a"
                          ],
                          [
                            0.8888888888888888,
                            "#fdca26"
                          ],
                          [
                            1,
                            "#f0f921"
                          ]
                        ],
                        "type": "heatmapgl"
                      }
                    ],
                    "histogram": [
                      {
                        "marker": {
                          "pattern": {
                            "fillmode": "overlay",
                            "size": 10,
                            "solidity": 0.2
                          }
                        },
                        "type": "histogram"
                      }
                    ],
                    "histogram2d": [
                      {
                        "colorbar": {
                          "outlinewidth": 0,
                          "ticks": ""
                        },
                        "colorscale": [
                          [
                            0,
                            "#0d0887"
                          ],
                          [
                            0.1111111111111111,
                            "#46039f"
                          ],
                          [
                            0.2222222222222222,
                            "#7201a8"
                          ],
                          [
                            0.3333333333333333,
                            "#9c179e"
                          ],
                          [
                            0.4444444444444444,
                            "#bd3786"
                          ],
                          [
                            0.5555555555555556,
                            "#d8576b"
                          ],
                          [
                            0.6666666666666666,
                            "#ed7953"
                          ],
                          [
                            0.7777777777777778,
                            "#fb9f3a"
                          ],
                          [
                            0.8888888888888888,
                            "#fdca26"
                          ],
                          [
                            1,
                            "#f0f921"
                          ]
                        ],
                        "type": "histogram2d"
                      }
                    ],
                    "histogram2dcontour": [
                      {
                        "colorbar": {
                          "outlinewidth": 0,
                          "ticks": ""
                        },
                        "colorscale": [
                          [
                            0,
                            "#0d0887"
                          ],
                          [
                            0.1111111111111111,
                            "#46039f"
                          ],
                          [
                            0.2222222222222222,
                            "#7201a8"
                          ],
                          [
                            0.3333333333333333,
                            "#9c179e"
                          ],
                          [
                            0.4444444444444444,
                            "#bd3786"
                          ],
                          [
                            0.5555555555555556,
                            "#d8576b"
                          ],
                          [
                            0.6666666666666666,
                            "#ed7953"
                          ],
                          [
                            0.7777777777777778,
                            "#fb9f3a"
                          ],
                          [
                            0.8888888888888888,
                            "#fdca26"
                          ],
                          [
                            1,
                            "#f0f921"
                          ]
                        ],
                        "type": "histogram2dcontour"
                      }
                    ],
                    "mesh3d": [
                      {
                        "colorbar": {
                          "outlinewidth": 0,
                          "ticks": ""
                        },
                        "type": "mesh3d"
                      }
                    ],
                    "parcoords": [
                      {
                        "line": {
                          "colorbar": {
                            "outlinewidth": 0,
                            "ticks": ""
                          }
                        },
                        "type": "parcoords"
                      }
                    ],
                    "pie": [
                      {
                        "automargin": true,
                        "type": "pie"
                      }
                    ],
                    "scatter": [
                      {
                        "fillpattern": {
                          "fillmode": "overlay",
                          "size": 10,
                          "solidity": 0.2
                        },
                        "type": "scatter"
                      }
                    ],
                    "scatter3d": [
                      {
                        "line": {
                          "colorbar": {
                            "outlinewidth": 0,
                            "ticks": ""
                          }
                        },
                        "marker": {
                          "colorbar": {
                            "outlinewidth": 0,
                            "ticks": ""
                          }
                        },
                        "type": "scatter3d"
                      }
                    ],
                    "scattercarpet": [
                      {
                        "marker": {
                          "colorbar": {
                            "outlinewidth": 0,
                            "ticks": ""
                          }
                        },
                        "type": "scattercarpet"
                      }
                    ],
                    "scattergeo": [
                      {
                        "marker": {
                          "colorbar": {
                            "outlinewidth": 0,
                            "ticks": ""
                          }
                        },
                        "type": "scattergeo"
                      }
                    ],
                    "scattergl": [
                      {
                        "marker": {
                          "colorbar": {
                            "outlinewidth": 0,
                            "ticks": ""
                          }
                        },
                        "type": "scattergl"
                      }
                    ],
                    "scattermapbox": [
                      {
                        "marker": {
                          "colorbar": {
                            "outlinewidth": 0,
                            "ticks": ""
                          }
                        },
                        "type": "scattermapbox"
                      }
                    ],
                    "scatterpolar": [
                      {
                        "marker": {
                          "colorbar": {
                            "outlinewidth": 0,
                            "ticks": ""
                          }
                        },
                        "type": "scatterpolar"
                      }
                    ],
                    "scatterpolargl": [
                      {
                        "marker": {
                          "colorbar": {
                            "outlinewidth": 0,
                            "ticks": ""
                          }
                        },
                        "type": "scatterpolargl"
                      }
                    ],
                    "scatterternary": [
                      {
                        "marker": {
                          "colorbar": {
                            "outlinewidth": 0,
                            "ticks": ""
                          }
                        },
                        "type": "scatterternary"
                      }
                    ],
                    "surface": [
                      {
                        "colorbar": {
                          "outlinewidth": 0,
                          "ticks": ""
                        },
                        "colorscale": [
                          [
                            0,
                            "#0d0887"
                          ],
                          [
                            0.1111111111111111,
                            "#46039f"
                          ],
                          [
                            0.2222222222222222,
                            "#7201a8"
                          ],
                          [
                            0.3333333333333333,
                            "#9c179e"
                          ],
                          [
                            0.4444444444444444,
                            "#bd3786"
                          ],
                          [
                            0.5555555555555556,
                            "#d8576b"
                          ],
                          [
                            0.6666666666666666,
                            "#ed7953"
                          ],
                          [
                            0.7777777777777778,
                            "#fb9f3a"
                          ],
                          [
                            0.8888888888888888,
                            "#fdca26"
                          ],
                          [
                            1,
                            "#f0f921"
                          ]
                        ],
                        "type": "surface"
                      }
                    ],
                    "table": [
                      {
                        "cells": {
                          "fill": {
                            "color": "#EBF0F8"
                          },
                          "line": {
                            "color": "white"
                          }
                        },
                        "header": {
                          "fill": {
                            "color": "#C8D4E3"
                          },
                          "line": {
                            "color": "white"
                          }
                        },
                        "type": "table"
                      }
                    ]
                  },
                  "layout": {
                    "annotationdefaults": {
                      "arrowcolor": "#2a3f5f",
                      "arrowhead": 0,
                      "arrowwidth": 1
                    },
                    "autotypenumbers": "strict",
                    "coloraxis": {
                      "colorbar": {
                        "outlinewidth": 0,
                        "ticks": ""
                      }
                    },
                    "colorscale": {
                      "diverging": [
                        [
                          0,
                          "#8e0152"
                        ],
                        [
                          0.1,
                          "#c51b7d"
                        ],
                        [
                          0.2,
                          "#de77ae"
                        ],
                        [
                          0.3,
                          "#f1b6da"
                        ],
                        [
                          0.4,
                          "#fde0ef"
                        ],
                        [
                          0.5,
                          "#f7f7f7"
                        ],
                        [
                          0.6,
                          "#e6f5d0"
                        ],
                        [
                          0.7,
                          "#b8e186"
                        ],
                        [
                          0.8,
                          "#7fbc41"
                        ],
                        [
                          0.9,
                          "#4d9221"
                        ],
                        [
                          1,
                          "#276419"
                        ]
                      ],
                      "sequential": [
                        [
                          0,
                          "#0d0887"
                        ],
                        [
                          0.1111111111111111,
                          "#46039f"
                        ],
                        [
                          0.2222222222222222,
                          "#7201a8"
                        ],
                        [
                          0.3333333333333333,
                          "#9c179e"
                        ],
                        [
                          0.4444444444444444,
                          "#bd3786"
                        ],
                        [
                          0.5555555555555556,
                          "#d8576b"
                        ],
                        [
                          0.6666666666666666,
                          "#ed7953"
                        ],
                        [
                          0.7777777777777778,
                          "#fb9f3a"
                        ],
                        [
                          0.8888888888888888,
                          "#fdca26"
                        ],
                        [
                          1,
                          "#f0f921"
                        ]
                      ],
                      "sequentialminus": [
                        [
                          0,
                          "#0d0887"
                        ],
                        [
                          0.1111111111111111,
                          "#46039f"
                        ],
                        [
                          0.2222222222222222,
                          "#7201a8"
                        ],
                        [
                          0.3333333333333333,
                          "#9c179e"
                        ],
                        [
                          0.4444444444444444,
                          "#bd3786"
                        ],
                        [
                          0.5555555555555556,
                          "#d8576b"
                        ],
                        [
                          0.6666666666666666,
                          "#ed7953"
                        ],
                        [
                          0.7777777777777778,
                          "#fb9f3a"
                        ],
                        [
                          0.8888888888888888,
                          "#fdca26"
                        ],
                        [
                          1,
                          "#f0f921"
                        ]
                      ]
                    },
                    "colorway": [
                      "#636efa",
                      "#EF553B",
                      "#00cc96",
                      "#ab63fa",
                      "#FFA15A",
                      "#19d3f3",
                      "#FF6692",
                      "#B6E880",
                      "#FF97FF",
                      "#FECB52"
                    ],
                    "font": {
                      "color": "#2a3f5f"
                    },
                    "geo": {
                      "bgcolor": "white",
                      "lakecolor": "white",
                      "landcolor": "#E5ECF6",
                      "showlakes": true,
                      "showland": true,
                      "subunitcolor": "white"
                    },
                    "hoverlabel": {
                      "align": "left"
                    },
                    "hovermode": "closest",
                    "mapbox": {
                      "style": "light"
                    },
                    "paper_bgcolor": "white",
                    "plot_bgcolor": "#E5ECF6",
                    "polar": {
                      "angularaxis": {
                        "gridcolor": "white",
                        "linecolor": "white",
                        "ticks": ""
                      },
                      "bgcolor": "#E5ECF6",
                      "radialaxis": {
                        "gridcolor": "white",
                        "linecolor": "white",
                        "ticks": ""
                      }
                    },
                    "scene": {
                      "xaxis": {
                        "backgroundcolor": "#E5ECF6",
                        "gridcolor": "white",
                        "gridwidth": 2,
                        "linecolor": "white",
                        "showbackground": true,
                        "ticks": "",
                        "zerolinecolor": "white"
                      },
                      "yaxis": {
                        "backgroundcolor": "#E5ECF6",
                        "gridcolor": "white",
                        "gridwidth": 2,
                        "linecolor": "white",
                        "showbackground": true,
                        "ticks": "",
                        "zerolinecolor": "white"
                      },
                      "zaxis": {
                        "backgroundcolor": "#E5ECF6",
                        "gridcolor": "white",
                        "gridwidth": 2,
                        "linecolor": "white",
                        "showbackground": true,
                        "ticks": "",
                        "zerolinecolor": "white"
                      }
                    },
                    "shapedefaults": {
                      "line": {
                        "color": "#2a3f5f"
                      }
                    },
                    "ternary": {
                      "aaxis": {
                        "gridcolor": "white",
                        "linecolor": "white",
                        "ticks": ""
                      },
                      "baxis": {
                        "gridcolor": "white",
                        "linecolor": "white",
                        "ticks": ""
                      },
                      "bgcolor": "#E5ECF6",
                      "caxis": {
                        "gridcolor": "white",
                        "linecolor": "white",
                        "ticks": ""
                      }
                    },
                    "title": {
                      "x": 0.05
                    },
                    "xaxis": {
                      "automargin": true,
                      "gridcolor": "white",
                      "linecolor": "white",
                      "ticks": "",
                      "title": {
                        "standoff": 15
                      },
                      "zerolinecolor": "white",
                      "zerolinewidth": 2
                    },
                    "yaxis": {
                      "automargin": true,
                      "gridcolor": "white",
                      "linecolor": "white",
                      "ticks": "",
                      "title": {
                        "standoff": 15
                      },
                      "zerolinecolor": "white",
                      "zerolinewidth": 2
                    }
                  }
                },
                "title": {
                  "text": "Number of Products Suited for Each Skin Type"
                },
                "width": 800,
                "xaxis": {
                  "anchor": "y",
                  "domain": [
                    0,
                    1
                  ],
                  "tickangle": 15,
                  "title": {
                    "text": "Skin_type"
                  }
                },
                "yaxis": {
                  "anchor": "x",
                  "domain": [
                    0,
                    1
                  ],
                  "title": {
                    "text": "Counts"
                  }
                }
              }
            }
          },
          "metadata": {},
          "output_type": "display_data"
        }
      ],
      "source": [
        "# Skin Type\n",
        "top_7 = counts_df.head(7)\n",
        "sns.set(style='white')\n",
        "fig = px.bar(data_frame=top_7, x='Skin_type', y='Counts',\n",
        "       color='Percent%', color_continuous_scale='Inferno_r',\n",
        "       width=800, height=600,\n",
        "       text_auto=True, title=f'Number of Products Suited for Each Skin Type')\n",
        "fig.update_layout(plot_bgcolor='#FFFCF2', xaxis_tickangle = 15)\n",
        "fig.show()"
      ]
    },
    {
      "cell_type": "code",
      "execution_count": 15,
      "metadata": {
        "colab": {
          "base_uri": "https://localhost:8080/",
          "height": 536
        },
        "id": "u-WLO1Ro52CS",
        "outputId": "b77925e8-73e6-4a16-d327-b17fd82b4bbe"
      },
      "outputs": [
        {
          "name": "stderr",
          "output_type": "stream",
          "text": [
            "C:\\Users\\sharv\\AppData\\Local\\Temp\\ipykernel_1752\\4236124926.py:2: SettingWithCopyWarning:\n",
            "\n",
            "\n",
            "A value is trying to be set on a copy of a slice from a DataFrame.\n",
            "Try using .loc[row_indexer,col_indexer] = value instead\n",
            "\n",
            "See the caveats in the documentation: https://pandas.pydata.org/pandas-docs/stable/user_guide/indexing.html#returning-a-view-versus-a-copy\n",
            "\n",
            "C:\\Users\\sharv\\AppData\\Local\\Temp\\ipykernel_1752\\4236124926.py:3: SettingWithCopyWarning:\n",
            "\n",
            "\n",
            "A value is trying to be set on a copy of a slice from a DataFrame.\n",
            "Try using .loc[row_indexer,col_indexer] = value instead\n",
            "\n",
            "See the caveats in the documentation: https://pandas.pydata.org/pandas-docs/stable/user_guide/indexing.html#returning-a-view-versus-a-copy\n",
            "\n"
          ]
        },
        {
          "data": {
            "text/html": [
              "<div>\n",
              "<style scoped>\n",
              "    .dataframe tbody tr th:only-of-type {\n",
              "        vertical-align: middle;\n",
              "    }\n",
              "\n",
              "    .dataframe tbody tr th {\n",
              "        vertical-align: top;\n",
              "    }\n",
              "\n",
              "    .dataframe thead th {\n",
              "        text-align: right;\n",
              "    }\n",
              "</style>\n",
              "<table border=\"1\" class=\"dataframe\">\n",
              "  <thead>\n",
              "    <tr style=\"text-align: right;\">\n",
              "      <th></th>\n",
              "      <th>product_href</th>\n",
              "      <th>product_name</th>\n",
              "      <th>product_type</th>\n",
              "      <th>brand</th>\n",
              "      <th>notable_effects</th>\n",
              "      <th>skintype</th>\n",
              "      <th>price</th>\n",
              "      <th>picture_src</th>\n",
              "      <th>labels</th>\n",
              "    </tr>\n",
              "  </thead>\n",
              "  <tbody>\n",
              "    <tr>\n",
              "      <th>0</th>\n",
              "      <td>https://www.myntra.com/Face Moisturizer/lakme/...</td>\n",
              "      <td>Absolute Perfect Radiance Skin Lightening Day ...</td>\n",
              "      <td>Face Moisturizer</td>\n",
              "      <td>Lakme</td>\n",
              "      <td>General Care</td>\n",
              "      <td>Combination</td>\n",
              "      <td>Rs. 94</td>\n",
              "      <td>https://assets.myntassets.com/h_720,q_90,w_540...</td>\n",
              "      <td>232</td>\n",
              "    </tr>\n",
              "    <tr>\n",
              "      <th>1</th>\n",
              "      <td>https://www.myntra.com/Face Moisturizer/biotiq...</td>\n",
              "      <td>Bio Morning Nectar Flawless Sustainable Skin M...</td>\n",
              "      <td>Face Moisturizer</td>\n",
              "      <td>Biotique</td>\n",
              "      <td>Uneven Skin Tone,Hydration,Dark Spots</td>\n",
              "      <td>All</td>\n",
              "      <td>Rs. 214</td>\n",
              "      <td>https://assets.myntassets.com/h_720,q_90,w_540...</td>\n",
              "      <td>392</td>\n",
              "    </tr>\n",
              "    <tr>\n",
              "      <th>2</th>\n",
              "      <td>https://www.myntra.com/Face Moisturizer/nivea/...</td>\n",
              "      <td>Unisex Aloe Hydration Skin Cream 100 Ml</td>\n",
              "      <td>Face Moisturizer</td>\n",
              "      <td>Nivea</td>\n",
              "      <td>Dull Skin,Dryness,General Care</td>\n",
              "      <td>All</td>\n",
              "      <td>Rs. 199</td>\n",
              "      <td>https://assets.myntassets.com/h_720,q_90,w_540...</td>\n",
              "      <td>148</td>\n",
              "    </tr>\n",
              "    <tr>\n",
              "      <th>3</th>\n",
              "      <td>https://www.myntra.com/Face Moisturizer/vi-joh...</td>\n",
              "      <td>Women Set Of 5 Saffron Fairness Cream Advanced</td>\n",
              "      <td>Face Moisturizer</td>\n",
              "      <td>Vi-John</td>\n",
              "      <td>Softening,Smoothening,Sun Protection</td>\n",
              "      <td>All</td>\n",
              "      <td>Rs. 300</td>\n",
              "      <td>https://assets.myntassets.com/h_720,q_90,w_540...</td>\n",
              "      <td>361</td>\n",
              "    </tr>\n",
              "    <tr>\n",
              "      <th>4</th>\n",
              "      <td>https://www.myntra.com/Face Moisturizer/lakme/...</td>\n",
              "      <td>Peach Milk Soft Creme 150G</td>\n",
              "      <td>Face Moisturizer</td>\n",
              "      <td>Lakme</td>\n",
              "      <td>General Care</td>\n",
              "      <td>All</td>\n",
              "      <td>Rs. 240</td>\n",
              "      <td>https://assets.myntassets.com/h_720,q_90,w_540...</td>\n",
              "      <td>232</td>\n",
              "    </tr>\n",
              "  </tbody>\n",
              "</table>\n",
              "</div>"
            ],
            "text/plain": [
              "                                        product_href  \\\n",
              "0  https://www.myntra.com/Face Moisturizer/lakme/...   \n",
              "1  https://www.myntra.com/Face Moisturizer/biotiq...   \n",
              "2  https://www.myntra.com/Face Moisturizer/nivea/...   \n",
              "3  https://www.myntra.com/Face Moisturizer/vi-joh...   \n",
              "4  https://www.myntra.com/Face Moisturizer/lakme/...   \n",
              "\n",
              "                                        product_name      product_type  \\\n",
              "0  Absolute Perfect Radiance Skin Lightening Day ...  Face Moisturizer   \n",
              "1  Bio Morning Nectar Flawless Sustainable Skin M...  Face Moisturizer   \n",
              "2            Unisex Aloe Hydration Skin Cream 100 Ml  Face Moisturizer   \n",
              "3     Women Set Of 5 Saffron Fairness Cream Advanced  Face Moisturizer   \n",
              "4                         Peach Milk Soft Creme 150G  Face Moisturizer   \n",
              "\n",
              "      brand                        notable_effects     skintype    price  \\\n",
              "0     Lakme                           General Care  Combination   Rs. 94   \n",
              "1  Biotique  Uneven Skin Tone,Hydration,Dark Spots          All  Rs. 214   \n",
              "2     Nivea         Dull Skin,Dryness,General Care          All  Rs. 199   \n",
              "3   Vi-John   Softening,Smoothening,Sun Protection          All  Rs. 300   \n",
              "4     Lakme                           General Care          All  Rs. 240   \n",
              "\n",
              "                                         picture_src  labels  \n",
              "0  https://assets.myntassets.com/h_720,q_90,w_540...     232  \n",
              "1  https://assets.myntassets.com/h_720,q_90,w_540...     392  \n",
              "2  https://assets.myntassets.com/h_720,q_90,w_540...     148  \n",
              "3  https://assets.myntassets.com/h_720,q_90,w_540...     361  \n",
              "4  https://assets.myntassets.com/h_720,q_90,w_540...     232  "
            ]
          },
          "execution_count": 15,
          "metadata": {},
          "output_type": "execute_result"
        }
      ],
      "source": [
        "# Creating numerical labels of notable_effects\n",
        "skincare['notable_effects']=skincare['notable_effects'].astype('category')\n",
        "skincare['labels']=skincare['notable_effects'].cat.codes\n",
        "skincare.head()"
      ]
    },
    {
      "cell_type": "code",
      "execution_count": 16,
      "metadata": {
        "colab": {
          "base_uri": "https://localhost:8080/",
          "height": 363
        },
        "id": "rELdSYgM70yi",
        "outputId": "a2268cf7-f866-4545-8852-67813457fd5e"
      },
      "outputs": [
        {
          "data": {
            "text/html": [
              "<div>\n",
              "<style scoped>\n",
              "    .dataframe tbody tr th:only-of-type {\n",
              "        vertical-align: middle;\n",
              "    }\n",
              "\n",
              "    .dataframe tbody tr th {\n",
              "        vertical-align: top;\n",
              "    }\n",
              "\n",
              "    .dataframe thead th {\n",
              "        text-align: right;\n",
              "    }\n",
              "</style>\n",
              "<table border=\"1\" class=\"dataframe\">\n",
              "  <thead>\n",
              "    <tr style=\"text-align: right;\">\n",
              "      <th></th>\n",
              "      <th>Notable_Effects</th>\n",
              "      <th>Counts</th>\n",
              "      <th>Percentage(%)</th>\n",
              "    </tr>\n",
              "  </thead>\n",
              "  <tbody>\n",
              "    <tr>\n",
              "      <th>0</th>\n",
              "      <td>General Care</td>\n",
              "      <td>77</td>\n",
              "      <td>8.42</td>\n",
              "    </tr>\n",
              "    <tr>\n",
              "      <th>1</th>\n",
              "      <td>Daily Use</td>\n",
              "      <td>39</td>\n",
              "      <td>4.27</td>\n",
              "    </tr>\n",
              "    <tr>\n",
              "      <th>2</th>\n",
              "      <td>Fine Lines,Wrinkles</td>\n",
              "      <td>32</td>\n",
              "      <td>3.50</td>\n",
              "    </tr>\n",
              "    <tr>\n",
              "      <th>3</th>\n",
              "      <td>Acne,Blemishes</td>\n",
              "      <td>30</td>\n",
              "      <td>3.28</td>\n",
              "    </tr>\n",
              "    <tr>\n",
              "      <th>4</th>\n",
              "      <td>Dark Circles,Eye Bags</td>\n",
              "      <td>26</td>\n",
              "      <td>2.84</td>\n",
              "    </tr>\n",
              "    <tr>\n",
              "      <th>5</th>\n",
              "      <td>Fine Lines,Wrinkles,Dark Circles,Eye Bags</td>\n",
              "      <td>19</td>\n",
              "      <td>2.08</td>\n",
              "    </tr>\n",
              "    <tr>\n",
              "      <th>6</th>\n",
              "      <td>Dark Circles</td>\n",
              "      <td>12</td>\n",
              "      <td>1.31</td>\n",
              "    </tr>\n",
              "    <tr>\n",
              "      <th>7</th>\n",
              "      <td>Hydration,Deep Nourishment,Daily Use</td>\n",
              "      <td>11</td>\n",
              "      <td>1.20</td>\n",
              "    </tr>\n",
              "    <tr>\n",
              "      <th>8</th>\n",
              "      <td>Hydration</td>\n",
              "      <td>10</td>\n",
              "      <td>1.09</td>\n",
              "    </tr>\n",
              "    <tr>\n",
              "      <th>9</th>\n",
              "      <td>Dryness</td>\n",
              "      <td>10</td>\n",
              "      <td>1.09</td>\n",
              "    </tr>\n",
              "  </tbody>\n",
              "</table>\n",
              "</div>"
            ],
            "text/plain": [
              "                             Notable_Effects  Counts  Percentage(%)\n",
              "0                               General Care      77           8.42\n",
              "1                                  Daily Use      39           4.27\n",
              "2                        Fine Lines,Wrinkles      32           3.50\n",
              "3                             Acne,Blemishes      30           3.28\n",
              "4                      Dark Circles,Eye Bags      26           2.84\n",
              "5  Fine Lines,Wrinkles,Dark Circles,Eye Bags      19           2.08\n",
              "6                               Dark Circles      12           1.31\n",
              "7       Hydration,Deep Nourishment,Daily Use      11           1.20\n",
              "8                                  Hydration      10           1.09\n",
              "9                                    Dryness      10           1.09"
            ]
          },
          "execution_count": 16,
          "metadata": {},
          "output_type": "execute_result"
        }
      ],
      "source": [
        "# Skin Type That Suitable For the Product\n",
        "counts_effect = skincare['notable_effects'].value_counts()\n",
        "counts_percentage = skincare['notable_effects'].value_counts(1)*100\n",
        "counts_effect_df = pd.DataFrame({'Notable_Effects':counts_effect.index,'Counts':counts_effect.values,'Percentage(%)':np.round(counts_percentage.values,2)})\n",
        "counts_effect_df.head(10)"
      ]
    },
    {
      "cell_type": "code",
      "execution_count": 17,
      "metadata": {},
      "outputs": [
        {
          "data": {
            "text/plain": [
              "0                                   General Care\n",
              "1          Uneven Skin Tone,Hydration,Dark Spots\n",
              "2                 Dull Skin,Dryness,General Care\n",
              "3           Softening,Smoothening,Sun Protection\n",
              "4                                   General Care\n",
              "                         ...                    \n",
              "961                                 Dark Circles\n",
              "962             Fine Lines,Wrinkles,Dark Circles\n",
              "963                        Dark Circles,Eye Bags\n",
              "964    Fine Lines,Wrinkles,Dark Circles,Eye Bags\n",
              "965                Dark Circles,Eye Bags,Dryness\n",
              "Name: notable_effects, Length: 914, dtype: category\n",
              "Categories (397, object): ['Acne,Blemishes', 'Acne,Blemishes,Anti-Pollution', 'Acne,Blemishes,Blackheads,Whiteheads,Dull Skin', 'Acne,Blemishes,Blackheads,Whiteheads,Excess Oil', ..., 'Uneven Skin Tone,Hydration,Deep Nourishment', 'Uneven Skin Tone,Redness,Dark Spots', 'Uneven Skin Tone,Tan Removal,Softening,Smooth..., 'Uneven Skin Tone,Uneven Skin Tone,Excess Oil']"
            ]
          },
          "execution_count": 17,
          "metadata": {},
          "output_type": "execute_result"
        }
      ],
      "source": [
        "skincare['notable_effects']"
      ]
    },
    {
      "cell_type": "code",
      "execution_count": 18,
      "metadata": {
        "colab": {
          "base_uri": "https://localhost:8080/",
          "height": 542
        },
        "id": "sz9buTGfE1CP",
        "outputId": "d7188dfa-fe15-4889-cf3b-ef7345504bf5"
      },
      "outputs": [
        {
          "data": {
            "application/vnd.plotly.v1+json": {
              "config": {
                "plotlyServerURL": "https://plot.ly"
              },
              "data": [
                {
                  "customdata": [
                    [
                      "General Care"
                    ],
                    [
                      "Daily Use"
                    ],
                    [
                      "Fine Lines,Wrinkles"
                    ],
                    [
                      "Acne,Blemishes"
                    ],
                    [
                      "Dark Circles,Eye Bags"
                    ]
                  ],
                  "domain": {
                    "x": [
                      0,
                      1
                    ],
                    "y": [
                      0,
                      1
                    ]
                  },
                  "hovertemplate": "Notable_Effects=%{customdata[0]}<br>Counts=%{value}<extra></extra>",
                  "labels": [
                    "General Care",
                    "Daily Use",
                    "Fine Lines,Wrinkles",
                    "Acne,Blemishes",
                    "Dark Circles,Eye Bags"
                  ],
                  "legendgroup": "",
                  "marker": {
                    "colors": [
                      "#99582A",
                      "#F4ACB7",
                      "#FFCCD5",
                      "#FDFCDC",
                      "#C6AC8F"
                    ]
                  },
                  "name": "",
                  "showlegend": true,
                  "textfont": {
                    "color": "black",
                    "size": 15
                  },
                  "textinfo": "percent",
                  "textposition": "inside",
                  "type": "pie",
                  "values": [
                    77,
                    39,
                    32,
                    30,
                    26
                  ]
                }
              ],
              "layout": {
                "legend": {
                  "tracegroupgap": 0
                },
                "margin": {
                  "t": 60
                },
                "piecolorway": [
                  "#99582A",
                  "#F4ACB7",
                  "#FFCCD5",
                  "#FDFCDC",
                  "#C6AC8F"
                ],
                "template": {
                  "data": {
                    "bar": [
                      {
                        "error_x": {
                          "color": "#2a3f5f"
                        },
                        "error_y": {
                          "color": "#2a3f5f"
                        },
                        "marker": {
                          "line": {
                            "color": "#E5ECF6",
                            "width": 0.5
                          },
                          "pattern": {
                            "fillmode": "overlay",
                            "size": 10,
                            "solidity": 0.2
                          }
                        },
                        "type": "bar"
                      }
                    ],
                    "barpolar": [
                      {
                        "marker": {
                          "line": {
                            "color": "#E5ECF6",
                            "width": 0.5
                          },
                          "pattern": {
                            "fillmode": "overlay",
                            "size": 10,
                            "solidity": 0.2
                          }
                        },
                        "type": "barpolar"
                      }
                    ],
                    "carpet": [
                      {
                        "aaxis": {
                          "endlinecolor": "#2a3f5f",
                          "gridcolor": "white",
                          "linecolor": "white",
                          "minorgridcolor": "white",
                          "startlinecolor": "#2a3f5f"
                        },
                        "baxis": {
                          "endlinecolor": "#2a3f5f",
                          "gridcolor": "white",
                          "linecolor": "white",
                          "minorgridcolor": "white",
                          "startlinecolor": "#2a3f5f"
                        },
                        "type": "carpet"
                      }
                    ],
                    "choropleth": [
                      {
                        "colorbar": {
                          "outlinewidth": 0,
                          "ticks": ""
                        },
                        "type": "choropleth"
                      }
                    ],
                    "contour": [
                      {
                        "colorbar": {
                          "outlinewidth": 0,
                          "ticks": ""
                        },
                        "colorscale": [
                          [
                            0,
                            "#0d0887"
                          ],
                          [
                            0.1111111111111111,
                            "#46039f"
                          ],
                          [
                            0.2222222222222222,
                            "#7201a8"
                          ],
                          [
                            0.3333333333333333,
                            "#9c179e"
                          ],
                          [
                            0.4444444444444444,
                            "#bd3786"
                          ],
                          [
                            0.5555555555555556,
                            "#d8576b"
                          ],
                          [
                            0.6666666666666666,
                            "#ed7953"
                          ],
                          [
                            0.7777777777777778,
                            "#fb9f3a"
                          ],
                          [
                            0.8888888888888888,
                            "#fdca26"
                          ],
                          [
                            1,
                            "#f0f921"
                          ]
                        ],
                        "type": "contour"
                      }
                    ],
                    "contourcarpet": [
                      {
                        "colorbar": {
                          "outlinewidth": 0,
                          "ticks": ""
                        },
                        "type": "contourcarpet"
                      }
                    ],
                    "heatmap": [
                      {
                        "colorbar": {
                          "outlinewidth": 0,
                          "ticks": ""
                        },
                        "colorscale": [
                          [
                            0,
                            "#0d0887"
                          ],
                          [
                            0.1111111111111111,
                            "#46039f"
                          ],
                          [
                            0.2222222222222222,
                            "#7201a8"
                          ],
                          [
                            0.3333333333333333,
                            "#9c179e"
                          ],
                          [
                            0.4444444444444444,
                            "#bd3786"
                          ],
                          [
                            0.5555555555555556,
                            "#d8576b"
                          ],
                          [
                            0.6666666666666666,
                            "#ed7953"
                          ],
                          [
                            0.7777777777777778,
                            "#fb9f3a"
                          ],
                          [
                            0.8888888888888888,
                            "#fdca26"
                          ],
                          [
                            1,
                            "#f0f921"
                          ]
                        ],
                        "type": "heatmap"
                      }
                    ],
                    "heatmapgl": [
                      {
                        "colorbar": {
                          "outlinewidth": 0,
                          "ticks": ""
                        },
                        "colorscale": [
                          [
                            0,
                            "#0d0887"
                          ],
                          [
                            0.1111111111111111,
                            "#46039f"
                          ],
                          [
                            0.2222222222222222,
                            "#7201a8"
                          ],
                          [
                            0.3333333333333333,
                            "#9c179e"
                          ],
                          [
                            0.4444444444444444,
                            "#bd3786"
                          ],
                          [
                            0.5555555555555556,
                            "#d8576b"
                          ],
                          [
                            0.6666666666666666,
                            "#ed7953"
                          ],
                          [
                            0.7777777777777778,
                            "#fb9f3a"
                          ],
                          [
                            0.8888888888888888,
                            "#fdca26"
                          ],
                          [
                            1,
                            "#f0f921"
                          ]
                        ],
                        "type": "heatmapgl"
                      }
                    ],
                    "histogram": [
                      {
                        "marker": {
                          "pattern": {
                            "fillmode": "overlay",
                            "size": 10,
                            "solidity": 0.2
                          }
                        },
                        "type": "histogram"
                      }
                    ],
                    "histogram2d": [
                      {
                        "colorbar": {
                          "outlinewidth": 0,
                          "ticks": ""
                        },
                        "colorscale": [
                          [
                            0,
                            "#0d0887"
                          ],
                          [
                            0.1111111111111111,
                            "#46039f"
                          ],
                          [
                            0.2222222222222222,
                            "#7201a8"
                          ],
                          [
                            0.3333333333333333,
                            "#9c179e"
                          ],
                          [
                            0.4444444444444444,
                            "#bd3786"
                          ],
                          [
                            0.5555555555555556,
                            "#d8576b"
                          ],
                          [
                            0.6666666666666666,
                            "#ed7953"
                          ],
                          [
                            0.7777777777777778,
                            "#fb9f3a"
                          ],
                          [
                            0.8888888888888888,
                            "#fdca26"
                          ],
                          [
                            1,
                            "#f0f921"
                          ]
                        ],
                        "type": "histogram2d"
                      }
                    ],
                    "histogram2dcontour": [
                      {
                        "colorbar": {
                          "outlinewidth": 0,
                          "ticks": ""
                        },
                        "colorscale": [
                          [
                            0,
                            "#0d0887"
                          ],
                          [
                            0.1111111111111111,
                            "#46039f"
                          ],
                          [
                            0.2222222222222222,
                            "#7201a8"
                          ],
                          [
                            0.3333333333333333,
                            "#9c179e"
                          ],
                          [
                            0.4444444444444444,
                            "#bd3786"
                          ],
                          [
                            0.5555555555555556,
                            "#d8576b"
                          ],
                          [
                            0.6666666666666666,
                            "#ed7953"
                          ],
                          [
                            0.7777777777777778,
                            "#fb9f3a"
                          ],
                          [
                            0.8888888888888888,
                            "#fdca26"
                          ],
                          [
                            1,
                            "#f0f921"
                          ]
                        ],
                        "type": "histogram2dcontour"
                      }
                    ],
                    "mesh3d": [
                      {
                        "colorbar": {
                          "outlinewidth": 0,
                          "ticks": ""
                        },
                        "type": "mesh3d"
                      }
                    ],
                    "parcoords": [
                      {
                        "line": {
                          "colorbar": {
                            "outlinewidth": 0,
                            "ticks": ""
                          }
                        },
                        "type": "parcoords"
                      }
                    ],
                    "pie": [
                      {
                        "automargin": true,
                        "type": "pie"
                      }
                    ],
                    "scatter": [
                      {
                        "fillpattern": {
                          "fillmode": "overlay",
                          "size": 10,
                          "solidity": 0.2
                        },
                        "type": "scatter"
                      }
                    ],
                    "scatter3d": [
                      {
                        "line": {
                          "colorbar": {
                            "outlinewidth": 0,
                            "ticks": ""
                          }
                        },
                        "marker": {
                          "colorbar": {
                            "outlinewidth": 0,
                            "ticks": ""
                          }
                        },
                        "type": "scatter3d"
                      }
                    ],
                    "scattercarpet": [
                      {
                        "marker": {
                          "colorbar": {
                            "outlinewidth": 0,
                            "ticks": ""
                          }
                        },
                        "type": "scattercarpet"
                      }
                    ],
                    "scattergeo": [
                      {
                        "marker": {
                          "colorbar": {
                            "outlinewidth": 0,
                            "ticks": ""
                          }
                        },
                        "type": "scattergeo"
                      }
                    ],
                    "scattergl": [
                      {
                        "marker": {
                          "colorbar": {
                            "outlinewidth": 0,
                            "ticks": ""
                          }
                        },
                        "type": "scattergl"
                      }
                    ],
                    "scattermapbox": [
                      {
                        "marker": {
                          "colorbar": {
                            "outlinewidth": 0,
                            "ticks": ""
                          }
                        },
                        "type": "scattermapbox"
                      }
                    ],
                    "scatterpolar": [
                      {
                        "marker": {
                          "colorbar": {
                            "outlinewidth": 0,
                            "ticks": ""
                          }
                        },
                        "type": "scatterpolar"
                      }
                    ],
                    "scatterpolargl": [
                      {
                        "marker": {
                          "colorbar": {
                            "outlinewidth": 0,
                            "ticks": ""
                          }
                        },
                        "type": "scatterpolargl"
                      }
                    ],
                    "scatterternary": [
                      {
                        "marker": {
                          "colorbar": {
                            "outlinewidth": 0,
                            "ticks": ""
                          }
                        },
                        "type": "scatterternary"
                      }
                    ],
                    "surface": [
                      {
                        "colorbar": {
                          "outlinewidth": 0,
                          "ticks": ""
                        },
                        "colorscale": [
                          [
                            0,
                            "#0d0887"
                          ],
                          [
                            0.1111111111111111,
                            "#46039f"
                          ],
                          [
                            0.2222222222222222,
                            "#7201a8"
                          ],
                          [
                            0.3333333333333333,
                            "#9c179e"
                          ],
                          [
                            0.4444444444444444,
                            "#bd3786"
                          ],
                          [
                            0.5555555555555556,
                            "#d8576b"
                          ],
                          [
                            0.6666666666666666,
                            "#ed7953"
                          ],
                          [
                            0.7777777777777778,
                            "#fb9f3a"
                          ],
                          [
                            0.8888888888888888,
                            "#fdca26"
                          ],
                          [
                            1,
                            "#f0f921"
                          ]
                        ],
                        "type": "surface"
                      }
                    ],
                    "table": [
                      {
                        "cells": {
                          "fill": {
                            "color": "#EBF0F8"
                          },
                          "line": {
                            "color": "white"
                          }
                        },
                        "header": {
                          "fill": {
                            "color": "#C8D4E3"
                          },
                          "line": {
                            "color": "white"
                          }
                        },
                        "type": "table"
                      }
                    ]
                  },
                  "layout": {
                    "annotationdefaults": {
                      "arrowcolor": "#2a3f5f",
                      "arrowhead": 0,
                      "arrowwidth": 1
                    },
                    "autotypenumbers": "strict",
                    "coloraxis": {
                      "colorbar": {
                        "outlinewidth": 0,
                        "ticks": ""
                      }
                    },
                    "colorscale": {
                      "diverging": [
                        [
                          0,
                          "#8e0152"
                        ],
                        [
                          0.1,
                          "#c51b7d"
                        ],
                        [
                          0.2,
                          "#de77ae"
                        ],
                        [
                          0.3,
                          "#f1b6da"
                        ],
                        [
                          0.4,
                          "#fde0ef"
                        ],
                        [
                          0.5,
                          "#f7f7f7"
                        ],
                        [
                          0.6,
                          "#e6f5d0"
                        ],
                        [
                          0.7,
                          "#b8e186"
                        ],
                        [
                          0.8,
                          "#7fbc41"
                        ],
                        [
                          0.9,
                          "#4d9221"
                        ],
                        [
                          1,
                          "#276419"
                        ]
                      ],
                      "sequential": [
                        [
                          0,
                          "#0d0887"
                        ],
                        [
                          0.1111111111111111,
                          "#46039f"
                        ],
                        [
                          0.2222222222222222,
                          "#7201a8"
                        ],
                        [
                          0.3333333333333333,
                          "#9c179e"
                        ],
                        [
                          0.4444444444444444,
                          "#bd3786"
                        ],
                        [
                          0.5555555555555556,
                          "#d8576b"
                        ],
                        [
                          0.6666666666666666,
                          "#ed7953"
                        ],
                        [
                          0.7777777777777778,
                          "#fb9f3a"
                        ],
                        [
                          0.8888888888888888,
                          "#fdca26"
                        ],
                        [
                          1,
                          "#f0f921"
                        ]
                      ],
                      "sequentialminus": [
                        [
                          0,
                          "#0d0887"
                        ],
                        [
                          0.1111111111111111,
                          "#46039f"
                        ],
                        [
                          0.2222222222222222,
                          "#7201a8"
                        ],
                        [
                          0.3333333333333333,
                          "#9c179e"
                        ],
                        [
                          0.4444444444444444,
                          "#bd3786"
                        ],
                        [
                          0.5555555555555556,
                          "#d8576b"
                        ],
                        [
                          0.6666666666666666,
                          "#ed7953"
                        ],
                        [
                          0.7777777777777778,
                          "#fb9f3a"
                        ],
                        [
                          0.8888888888888888,
                          "#fdca26"
                        ],
                        [
                          1,
                          "#f0f921"
                        ]
                      ]
                    },
                    "colorway": [
                      "#636efa",
                      "#EF553B",
                      "#00cc96",
                      "#ab63fa",
                      "#FFA15A",
                      "#19d3f3",
                      "#FF6692",
                      "#B6E880",
                      "#FF97FF",
                      "#FECB52"
                    ],
                    "font": {
                      "color": "#2a3f5f"
                    },
                    "geo": {
                      "bgcolor": "white",
                      "lakecolor": "white",
                      "landcolor": "#E5ECF6",
                      "showlakes": true,
                      "showland": true,
                      "subunitcolor": "white"
                    },
                    "hoverlabel": {
                      "align": "left"
                    },
                    "hovermode": "closest",
                    "mapbox": {
                      "style": "light"
                    },
                    "paper_bgcolor": "white",
                    "plot_bgcolor": "#E5ECF6",
                    "polar": {
                      "angularaxis": {
                        "gridcolor": "white",
                        "linecolor": "white",
                        "ticks": ""
                      },
                      "bgcolor": "#E5ECF6",
                      "radialaxis": {
                        "gridcolor": "white",
                        "linecolor": "white",
                        "ticks": ""
                      }
                    },
                    "scene": {
                      "xaxis": {
                        "backgroundcolor": "#E5ECF6",
                        "gridcolor": "white",
                        "gridwidth": 2,
                        "linecolor": "white",
                        "showbackground": true,
                        "ticks": "",
                        "zerolinecolor": "white"
                      },
                      "yaxis": {
                        "backgroundcolor": "#E5ECF6",
                        "gridcolor": "white",
                        "gridwidth": 2,
                        "linecolor": "white",
                        "showbackground": true,
                        "ticks": "",
                        "zerolinecolor": "white"
                      },
                      "zaxis": {
                        "backgroundcolor": "#E5ECF6",
                        "gridcolor": "white",
                        "gridwidth": 2,
                        "linecolor": "white",
                        "showbackground": true,
                        "ticks": "",
                        "zerolinecolor": "white"
                      }
                    },
                    "shapedefaults": {
                      "line": {
                        "color": "#2a3f5f"
                      }
                    },
                    "ternary": {
                      "aaxis": {
                        "gridcolor": "white",
                        "linecolor": "white",
                        "ticks": ""
                      },
                      "baxis": {
                        "gridcolor": "white",
                        "linecolor": "white",
                        "ticks": ""
                      },
                      "bgcolor": "#E5ECF6",
                      "caxis": {
                        "gridcolor": "white",
                        "linecolor": "white",
                        "ticks": ""
                      }
                    },
                    "title": {
                      "x": 0.05
                    },
                    "xaxis": {
                      "automargin": true,
                      "gridcolor": "white",
                      "linecolor": "white",
                      "ticks": "",
                      "title": {
                        "standoff": 15
                      },
                      "zerolinecolor": "white",
                      "zerolinewidth": 2
                    },
                    "yaxis": {
                      "automargin": true,
                      "gridcolor": "white",
                      "linecolor": "white",
                      "ticks": "",
                      "title": {
                        "standoff": 15
                      },
                      "zerolinecolor": "white",
                      "zerolinewidth": 2
                    }
                  }
                },
                "title": {
                  "text": "Distribution of Notable Effects Across Cosmetic Products",
                  "x": 0.5,
                  "xanchor": "center",
                  "y": 0.95,
                  "yanchor": "top"
                }
              }
            }
          },
          "metadata": {},
          "output_type": "display_data"
        }
      ],
      "source": [
        "#Top 5 Notable Effects\n",
        "top_5 = counts_effect_df.head(5)\n",
        "fig = px.pie(top_5, values = 'Counts', color = 'Notable_Effects', names = 'Notable_Effects',\n",
        "             color_discrete_sequence = ['#99582A','#F4ACB7', '#FFCCD5', '#FDFCDC', '#C6AC8F'])\n",
        "fig.update_traces(textposition = 'inside', textfont = dict(color = 'black', size = 15), textinfo = 'percent')\n",
        "fig.update_layout(title={'text':'Distribution of Notable Effects Across Cosmetic Products', 'y':0.95, 'x':0.5, 'xanchor': 'center', 'yanchor': 'top'})\n",
        "fig.show()"
      ]
    },
    {
      "cell_type": "markdown",
      "metadata": {
        "id": "boMLU0fOxbCR"
      },
      "source": [
        "# Data Cleaning"
      ]
    },
    {
      "cell_type": "code",
      "execution_count": 19,
      "metadata": {
        "colab": {
          "base_uri": "https://localhost:8080/"
        },
        "id": "Xd90ghGGp5Y0",
        "outputId": "a93c1692-e91b-44ea-d46e-fa3fc532500c"
      },
      "outputs": [
        {
          "name": "stderr",
          "output_type": "stream",
          "text": [
            "C:\\Users\\sharv\\AppData\\Local\\Temp\\ipykernel_1752\\1186413440.py:2: SettingWithCopyWarning:\n",
            "\n",
            "\n",
            "A value is trying to be set on a copy of a slice from a DataFrame\n",
            "\n",
            "See the caveats in the documentation: https://pandas.pydata.org/pandas-docs/stable/user_guide/indexing.html#returning-a-view-versus-a-copy\n",
            "\n"
          ]
        },
        {
          "data": {
            "text/plain": [
              "0"
            ]
          },
          "execution_count": 19,
          "metadata": {},
          "output_type": "execute_result"
        }
      ],
      "source": [
        "# Remove duplicated rows (14 in total)\n",
        "skincare.drop_duplicates(inplace=True)\n",
        "\n",
        "# Re-checking the existence of duplicated rows\n",
        "skincare.duplicated().sum()"
      ]
    },
    {
      "cell_type": "markdown",
      "metadata": {
        "id": "NXEOsIWEx5K6"
      },
      "source": [
        "# Data Preparation"
      ]
    },
    {
      "cell_type": "markdown",
      "metadata": {
        "id": "8NLPO9xBx9V_"
      },
      "source": [
        "**Encoding Each Skintypes**"
      ]
    },
    {
      "cell_type": "code",
      "execution_count": 20,
      "metadata": {
        "id": "yo6Lf-crkafr"
      },
      "outputs": [],
      "source": [
        "# Separate all skintype into one list, considering comma + space as separators\n",
        "skintype = skincare['skintype'].str.split(', ').tolist()\n",
        "\n",
        "# Flatten the list\n",
        "flat_skintype = [item for sublist in skintype for item in sublist]\n",
        "\n",
        "# Convert to a set to make unique\n",
        "set_skintype = set(flat_skintype)\n",
        "\n",
        "# Back to list\n",
        "unique_skintype = list(set_skintype)\n",
        "\n",
        "# Create columns by each unique skintype\n",
        "skincare = skincare.reindex(skincare.columns.tolist() + unique_skintype, axis=1, fill_value=0)\n",
        "\n",
        "# For each value inside column, update the dummy\n",
        "for index, row in skincare.iterrows():\n",
        "    for val in row.skintype.split(', '):\n",
        "        if val != 'NA':\n",
        "            skincare.loc[index, val] = 1"
      ]
    },
    {
      "cell_type": "code",
      "execution_count": 21,
      "metadata": {
        "colab": {
          "base_uri": "https://localhost:8080/",
          "height": 573
        },
        "id": "zhXusejQv9it",
        "outputId": "15b0daef-88b3-45df-f035-63d5ef8a8849"
      },
      "outputs": [
        {
          "data": {
            "text/html": [
              "<div>\n",
              "<style scoped>\n",
              "    .dataframe tbody tr th:only-of-type {\n",
              "        vertical-align: middle;\n",
              "    }\n",
              "\n",
              "    .dataframe tbody tr th {\n",
              "        vertical-align: top;\n",
              "    }\n",
              "\n",
              "    .dataframe thead th {\n",
              "        text-align: right;\n",
              "    }\n",
              "</style>\n",
              "<table border=\"1\" class=\"dataframe\">\n",
              "  <thead>\n",
              "    <tr style=\"text-align: right;\">\n",
              "      <th></th>\n",
              "      <th>product_href</th>\n",
              "      <th>product_name</th>\n",
              "      <th>product_type</th>\n",
              "      <th>brand</th>\n",
              "      <th>notable_effects</th>\n",
              "      <th>skintype</th>\n",
              "      <th>price</th>\n",
              "      <th>picture_src</th>\n",
              "      <th>labels</th>\n",
              "      <th>Oily</th>\n",
              "      <th>Sensitive</th>\n",
              "      <th>Combination</th>\n",
              "      <th>Dry</th>\n",
              "      <th>Normal</th>\n",
              "      <th>All</th>\n",
              "    </tr>\n",
              "  </thead>\n",
              "  <tbody>\n",
              "    <tr>\n",
              "      <th>0</th>\n",
              "      <td>https://www.myntra.com/Face Moisturizer/lakme/...</td>\n",
              "      <td>Absolute Perfect Radiance Skin Lightening Day ...</td>\n",
              "      <td>Face Moisturizer</td>\n",
              "      <td>Lakme</td>\n",
              "      <td>General Care</td>\n",
              "      <td>Combination</td>\n",
              "      <td>Rs. 94</td>\n",
              "      <td>https://assets.myntassets.com/h_720,q_90,w_540...</td>\n",
              "      <td>232</td>\n",
              "      <td>0</td>\n",
              "      <td>0</td>\n",
              "      <td>1</td>\n",
              "      <td>0</td>\n",
              "      <td>0</td>\n",
              "      <td>0</td>\n",
              "    </tr>\n",
              "    <tr>\n",
              "      <th>1</th>\n",
              "      <td>https://www.myntra.com/Face Moisturizer/biotiq...</td>\n",
              "      <td>Bio Morning Nectar Flawless Sustainable Skin M...</td>\n",
              "      <td>Face Moisturizer</td>\n",
              "      <td>Biotique</td>\n",
              "      <td>Uneven Skin Tone,Hydration,Dark Spots</td>\n",
              "      <td>All</td>\n",
              "      <td>Rs. 214</td>\n",
              "      <td>https://assets.myntassets.com/h_720,q_90,w_540...</td>\n",
              "      <td>392</td>\n",
              "      <td>0</td>\n",
              "      <td>0</td>\n",
              "      <td>0</td>\n",
              "      <td>0</td>\n",
              "      <td>0</td>\n",
              "      <td>1</td>\n",
              "    </tr>\n",
              "    <tr>\n",
              "      <th>2</th>\n",
              "      <td>https://www.myntra.com/Face Moisturizer/nivea/...</td>\n",
              "      <td>Unisex Aloe Hydration Skin Cream 100 Ml</td>\n",
              "      <td>Face Moisturizer</td>\n",
              "      <td>Nivea</td>\n",
              "      <td>Dull Skin,Dryness,General Care</td>\n",
              "      <td>All</td>\n",
              "      <td>Rs. 199</td>\n",
              "      <td>https://assets.myntassets.com/h_720,q_90,w_540...</td>\n",
              "      <td>148</td>\n",
              "      <td>0</td>\n",
              "      <td>0</td>\n",
              "      <td>0</td>\n",
              "      <td>0</td>\n",
              "      <td>0</td>\n",
              "      <td>1</td>\n",
              "    </tr>\n",
              "    <tr>\n",
              "      <th>3</th>\n",
              "      <td>https://www.myntra.com/Face Moisturizer/vi-joh...</td>\n",
              "      <td>Women Set Of 5 Saffron Fairness Cream Advanced</td>\n",
              "      <td>Face Moisturizer</td>\n",
              "      <td>Vi-John</td>\n",
              "      <td>Softening,Smoothening,Sun Protection</td>\n",
              "      <td>All</td>\n",
              "      <td>Rs. 300</td>\n",
              "      <td>https://assets.myntassets.com/h_720,q_90,w_540...</td>\n",
              "      <td>361</td>\n",
              "      <td>0</td>\n",
              "      <td>0</td>\n",
              "      <td>0</td>\n",
              "      <td>0</td>\n",
              "      <td>0</td>\n",
              "      <td>1</td>\n",
              "    </tr>\n",
              "    <tr>\n",
              "      <th>4</th>\n",
              "      <td>https://www.myntra.com/Face Moisturizer/lakme/...</td>\n",
              "      <td>Peach Milk Soft Creme 150G</td>\n",
              "      <td>Face Moisturizer</td>\n",
              "      <td>Lakme</td>\n",
              "      <td>General Care</td>\n",
              "      <td>All</td>\n",
              "      <td>Rs. 240</td>\n",
              "      <td>https://assets.myntassets.com/h_720,q_90,w_540...</td>\n",
              "      <td>232</td>\n",
              "      <td>0</td>\n",
              "      <td>0</td>\n",
              "      <td>0</td>\n",
              "      <td>0</td>\n",
              "      <td>0</td>\n",
              "      <td>1</td>\n",
              "    </tr>\n",
              "  </tbody>\n",
              "</table>\n",
              "</div>"
            ],
            "text/plain": [
              "                                        product_href  \\\n",
              "0  https://www.myntra.com/Face Moisturizer/lakme/...   \n",
              "1  https://www.myntra.com/Face Moisturizer/biotiq...   \n",
              "2  https://www.myntra.com/Face Moisturizer/nivea/...   \n",
              "3  https://www.myntra.com/Face Moisturizer/vi-joh...   \n",
              "4  https://www.myntra.com/Face Moisturizer/lakme/...   \n",
              "\n",
              "                                        product_name      product_type  \\\n",
              "0  Absolute Perfect Radiance Skin Lightening Day ...  Face Moisturizer   \n",
              "1  Bio Morning Nectar Flawless Sustainable Skin M...  Face Moisturizer   \n",
              "2            Unisex Aloe Hydration Skin Cream 100 Ml  Face Moisturizer   \n",
              "3     Women Set Of 5 Saffron Fairness Cream Advanced  Face Moisturizer   \n",
              "4                         Peach Milk Soft Creme 150G  Face Moisturizer   \n",
              "\n",
              "      brand                        notable_effects     skintype    price  \\\n",
              "0     Lakme                           General Care  Combination   Rs. 94   \n",
              "1  Biotique  Uneven Skin Tone,Hydration,Dark Spots          All  Rs. 214   \n",
              "2     Nivea         Dull Skin,Dryness,General Care          All  Rs. 199   \n",
              "3   Vi-John   Softening,Smoothening,Sun Protection          All  Rs. 300   \n",
              "4     Lakme                           General Care          All  Rs. 240   \n",
              "\n",
              "                                         picture_src  labels  Oily  Sensitive  \\\n",
              "0  https://assets.myntassets.com/h_720,q_90,w_540...     232     0          0   \n",
              "1  https://assets.myntassets.com/h_720,q_90,w_540...     392     0          0   \n",
              "2  https://assets.myntassets.com/h_720,q_90,w_540...     148     0          0   \n",
              "3  https://assets.myntassets.com/h_720,q_90,w_540...     361     0          0   \n",
              "4  https://assets.myntassets.com/h_720,q_90,w_540...     232     0          0   \n",
              "\n",
              "   Combination  Dry  Normal  All  \n",
              "0            1    0       0    0  \n",
              "1            0    0       0    1  \n",
              "2            0    0       0    1  \n",
              "3            0    0       0    1  \n",
              "4            0    0       0    1  "
            ]
          },
          "execution_count": 21,
          "metadata": {},
          "output_type": "execute_result"
        }
      ],
      "source": [
        "skincare.head(5)"
      ]
    },
    {
      "cell_type": "markdown",
      "metadata": {
        "id": "xmgFoyngqbLi"
      },
      "source": [
        "## Exporting the DataFrame as a CSV file"
      ]
    },
    {
      "cell_type": "markdown",
      "metadata": {
        "id": "mURffvwUqlqK"
      },
      "source": [
        "The next stage is to extract the cleaned and prepared dataset into .csv format, to enter the modeling and deployment stage in the website application file"
      ]
    },
    {
      "cell_type": "code",
      "execution_count": 22,
      "metadata": {
        "id": "6eD1325IqXFN"
      },
      "outputs": [],
      "source": [
        "skincare.to_csv(\"Myntra_export_skincare.csv\")"
      ]
    },
    {
      "cell_type": "markdown",
      "metadata": {
        "id": "5Inv5T4mQEIu"
      },
      "source": [
        "# Modelling"
      ]
    },
    {
      "cell_type": "markdown",
      "metadata": {
        "id": "Irbsy8lf7OhW"
      },
      "source": [
        "### TF-IDF Vectorizer"
      ]
    },
    {
      "cell_type": "markdown",
      "metadata": {
        "id": "g5jA1tTpojNZ"
      },
      "source": [
        "The TF-IDF Vectorizer will be used in the recommendation system to find a representation of the important features of each notable_effects category. We will use the tfidfvectorizer() function from the sklearn library."
      ]
    },
    {
      "cell_type": "code",
      "execution_count": 23,
      "metadata": {
        "colab": {
          "base_uri": "https://localhost:8080/"
        },
        "id": "tLnT9wJtBESD",
        "outputId": "42e385ec-a1bb-4aaa-a6c6-5d688b5384af"
      },
      "outputs": [
        {
          "data": {
            "text/plain": [
              "array(['acne', 'ageing', 'anti', 'bags', 'blackheads', 'blemishes',\n",
              "       'care', 'circles', 'control', 'daily', 'dark', 'deep', 'dryness',\n",
              "       'dull', 'excess', 'eye', 'fine', 'general', 'hydration',\n",
              "       'inflammation', 'irregular', 'lightening', 'lines', 'nourishment',\n",
              "       'oil', 'oily', 'pigmentation', 'pollution', 'pore', 'protection',\n",
              "       'redness', 'removal', 'sagging', 'scarring', 'skin', 'smoothening',\n",
              "       'softening', 'spots', 'sun', 'tan', 'textures', 'tightening',\n",
              "       'tone', 'uneven', 'use', 'whiteheads', 'wrinkles'], dtype=object)"
            ]
          },
          "execution_count": 23,
          "metadata": {},
          "output_type": "execute_result"
        }
      ],
      "source": [
        "# Modeling with Content Based Filtering\n",
        "# Initializing TfidfVectorizer\n",
        "tf = TfidfVectorizer()\n",
        "\n",
        "# Perform IDF calculation on 'notable_efects' data\n",
        "tf.fit(skincare['notable_effects'])\n",
        "\n",
        "# Mapping array from integer index feature to name feature\n",
        "tf.get_feature_names_out()"
      ]
    },
    {
      "cell_type": "code",
      "execution_count": 24,
      "metadata": {
        "colab": {
          "base_uri": "https://localhost:8080/"
        },
        "id": "CN0N59HjCNto",
        "outputId": "650a37b8-0a5a-45b7-c050-99b1cc98ce7f"
      },
      "outputs": [
        {
          "data": {
            "text/plain": [
              "(914, 47)"
            ]
          },
          "execution_count": 24,
          "metadata": {},
          "output_type": "execute_result"
        }
      ],
      "source": [
        "# Doing fit then transformed to matrix form\n",
        "tfidf_matrix = tf.fit_transform(skincare['notable_effects'])\n",
        "\n",
        "# Viewing matrix size TF IDF\n",
        "shape = tfidf_matrix.shape\n",
        "shape"
      ]
    },
    {
      "cell_type": "code",
      "execution_count": 25,
      "metadata": {
        "colab": {
          "base_uri": "https://localhost:8080/"
        },
        "id": "4LQmkwz0CY9m",
        "outputId": "b6e76002-8ba2-4fca-8b41-bc1ae26e1130"
      },
      "outputs": [
        {
          "data": {
            "text/plain": [
              "matrix([[0.        , 0.        , 0.        , ..., 0.        , 0.        ,\n",
              "         0.        ],\n",
              "        [0.        , 0.        , 0.        , ..., 0.        , 0.        ,\n",
              "         0.        ],\n",
              "        [0.        , 0.        , 0.        , ..., 0.        , 0.        ,\n",
              "         0.        ],\n",
              "        ...,\n",
              "        [0.        , 0.        , 0.        , ..., 0.        , 0.        ,\n",
              "         0.        ],\n",
              "        [0.        , 0.        , 0.        , ..., 0.        , 0.        ,\n",
              "         0.34728123],\n",
              "        [0.        , 0.        , 0.        , ..., 0.        , 0.        ,\n",
              "         0.        ]])"
            ]
          },
          "execution_count": 25,
          "metadata": {},
          "output_type": "execute_result"
        }
      ],
      "source": [
        "# Convert TF-IDF vector in matrix form with todense() function\n",
        "tfidf_matrix.todense()"
      ]
    },
    {
      "cell_type": "code",
      "execution_count": 26,
      "metadata": {
        "colab": {
          "base_uri": "https://localhost:8080/",
          "height": 1000
        },
        "id": "UYPC7a3eCbZT",
        "outputId": "744164b3-7eb4-4a48-da85-f8886d770383"
      },
      "outputs": [
        {
          "data": {
            "text/html": [
              "<div>\n",
              "<style scoped>\n",
              "    .dataframe tbody tr th:only-of-type {\n",
              "        vertical-align: middle;\n",
              "    }\n",
              "\n",
              "    .dataframe tbody tr th {\n",
              "        vertical-align: top;\n",
              "    }\n",
              "\n",
              "    .dataframe thead th {\n",
              "        text-align: right;\n",
              "    }\n",
              "</style>\n",
              "<table border=\"1\" class=\"dataframe\">\n",
              "  <thead>\n",
              "    <tr style=\"text-align: right;\">\n",
              "      <th></th>\n",
              "      <th>removal</th>\n",
              "      <th>excess</th>\n",
              "      <th>pigmentation</th>\n",
              "      <th>blackheads</th>\n",
              "      <th>skin</th>\n",
              "      <th>spots</th>\n",
              "      <th>use</th>\n",
              "      <th>circles</th>\n",
              "      <th>bags</th>\n",
              "      <th>oily</th>\n",
              "      <th>...</th>\n",
              "      <th>deep</th>\n",
              "      <th>daily</th>\n",
              "      <th>wrinkles</th>\n",
              "      <th>fine</th>\n",
              "      <th>lightening</th>\n",
              "      <th>tightening</th>\n",
              "      <th>dull</th>\n",
              "      <th>anti</th>\n",
              "      <th>inflammation</th>\n",
              "      <th>tan</th>\n",
              "    </tr>\n",
              "    <tr>\n",
              "      <th>product_name</th>\n",
              "      <th></th>\n",
              "      <th></th>\n",
              "      <th></th>\n",
              "      <th></th>\n",
              "      <th></th>\n",
              "      <th></th>\n",
              "      <th></th>\n",
              "      <th></th>\n",
              "      <th></th>\n",
              "      <th></th>\n",
              "      <th></th>\n",
              "      <th></th>\n",
              "      <th></th>\n",
              "      <th></th>\n",
              "      <th></th>\n",
              "      <th></th>\n",
              "      <th></th>\n",
              "      <th></th>\n",
              "      <th></th>\n",
              "      <th></th>\n",
              "      <th></th>\n",
              "    </tr>\n",
              "  </thead>\n",
              "  <tbody>\n",
              "    <tr>\n",
              "      <th>Unisex Pack Of 2 Omega + Repair Cream</th>\n",
              "      <td>0.0</td>\n",
              "      <td>0.0</td>\n",
              "      <td>0.0</td>\n",
              "      <td>0.000000</td>\n",
              "      <td>0.216360</td>\n",
              "      <td>0.0</td>\n",
              "      <td>0.000000</td>\n",
              "      <td>0.000000</td>\n",
              "      <td>0.000000</td>\n",
              "      <td>0.0</td>\n",
              "      <td>...</td>\n",
              "      <td>0.607194</td>\n",
              "      <td>0.000000</td>\n",
              "      <td>0.000000</td>\n",
              "      <td>0.000000</td>\n",
              "      <td>0.0</td>\n",
              "      <td>0.0</td>\n",
              "      <td>0.000000</td>\n",
              "      <td>0.0</td>\n",
              "      <td>0.0</td>\n",
              "      <td>0.0</td>\n",
              "    </tr>\n",
              "    <tr>\n",
              "      <th>Glamveda Women Whipped Vitamin C Mud Masque 40 Gm</th>\n",
              "      <td>0.0</td>\n",
              "      <td>0.0</td>\n",
              "      <td>0.0</td>\n",
              "      <td>0.000000</td>\n",
              "      <td>0.000000</td>\n",
              "      <td>0.0</td>\n",
              "      <td>0.707107</td>\n",
              "      <td>0.000000</td>\n",
              "      <td>0.000000</td>\n",
              "      <td>0.0</td>\n",
              "      <td>...</td>\n",
              "      <td>0.000000</td>\n",
              "      <td>0.707107</td>\n",
              "      <td>0.000000</td>\n",
              "      <td>0.000000</td>\n",
              "      <td>0.0</td>\n",
              "      <td>0.0</td>\n",
              "      <td>0.000000</td>\n",
              "      <td>0.0</td>\n",
              "      <td>0.0</td>\n",
              "      <td>0.0</td>\n",
              "    </tr>\n",
              "    <tr>\n",
              "      <th>Neem Tulsi Face Pack - 100 G</th>\n",
              "      <td>0.0</td>\n",
              "      <td>0.0</td>\n",
              "      <td>0.0</td>\n",
              "      <td>0.000000</td>\n",
              "      <td>0.000000</td>\n",
              "      <td>0.0</td>\n",
              "      <td>0.000000</td>\n",
              "      <td>0.000000</td>\n",
              "      <td>0.000000</td>\n",
              "      <td>0.0</td>\n",
              "      <td>...</td>\n",
              "      <td>0.000000</td>\n",
              "      <td>0.000000</td>\n",
              "      <td>0.000000</td>\n",
              "      <td>0.000000</td>\n",
              "      <td>0.0</td>\n",
              "      <td>0.0</td>\n",
              "      <td>0.000000</td>\n",
              "      <td>0.0</td>\n",
              "      <td>0.0</td>\n",
              "      <td>0.0</td>\n",
              "    </tr>\n",
              "    <tr>\n",
              "      <th>Unisex Sustainable Green Tea Set Of Clear Face Mask &amp; Moisturizer</th>\n",
              "      <td>0.0</td>\n",
              "      <td>0.0</td>\n",
              "      <td>0.0</td>\n",
              "      <td>0.481252</td>\n",
              "      <td>0.000000</td>\n",
              "      <td>0.0</td>\n",
              "      <td>0.000000</td>\n",
              "      <td>0.000000</td>\n",
              "      <td>0.000000</td>\n",
              "      <td>0.0</td>\n",
              "      <td>...</td>\n",
              "      <td>0.000000</td>\n",
              "      <td>0.000000</td>\n",
              "      <td>0.000000</td>\n",
              "      <td>0.000000</td>\n",
              "      <td>0.0</td>\n",
              "      <td>0.0</td>\n",
              "      <td>0.000000</td>\n",
              "      <td>0.0</td>\n",
              "      <td>0.0</td>\n",
              "      <td>0.0</td>\n",
              "    </tr>\n",
              "    <tr>\n",
              "      <th>British Rose Fresh Plumping Face Mask 15 Ml</th>\n",
              "      <td>0.0</td>\n",
              "      <td>0.0</td>\n",
              "      <td>0.0</td>\n",
              "      <td>0.000000</td>\n",
              "      <td>0.303306</td>\n",
              "      <td>0.0</td>\n",
              "      <td>0.000000</td>\n",
              "      <td>0.000000</td>\n",
              "      <td>0.000000</td>\n",
              "      <td>0.0</td>\n",
              "      <td>...</td>\n",
              "      <td>0.000000</td>\n",
              "      <td>0.000000</td>\n",
              "      <td>0.000000</td>\n",
              "      <td>0.000000</td>\n",
              "      <td>0.0</td>\n",
              "      <td>0.0</td>\n",
              "      <td>0.000000</td>\n",
              "      <td>0.0</td>\n",
              "      <td>0.0</td>\n",
              "      <td>0.0</td>\n",
              "    </tr>\n",
              "    <tr>\n",
              "      <th>Set Of Toner &amp; Eye Gel</th>\n",
              "      <td>0.0</td>\n",
              "      <td>0.0</td>\n",
              "      <td>0.0</td>\n",
              "      <td>0.000000</td>\n",
              "      <td>0.000000</td>\n",
              "      <td>0.0</td>\n",
              "      <td>0.000000</td>\n",
              "      <td>0.489619</td>\n",
              "      <td>0.545736</td>\n",
              "      <td>0.0</td>\n",
              "      <td>...</td>\n",
              "      <td>0.000000</td>\n",
              "      <td>0.000000</td>\n",
              "      <td>0.000000</td>\n",
              "      <td>0.000000</td>\n",
              "      <td>0.0</td>\n",
              "      <td>0.0</td>\n",
              "      <td>0.000000</td>\n",
              "      <td>0.0</td>\n",
              "      <td>0.0</td>\n",
              "      <td>0.0</td>\n",
              "    </tr>\n",
              "    <tr>\n",
              "      <th>Men Powerwhite Xl Charcoal Mask</th>\n",
              "      <td>0.0</td>\n",
              "      <td>0.0</td>\n",
              "      <td>0.0</td>\n",
              "      <td>0.000000</td>\n",
              "      <td>0.343799</td>\n",
              "      <td>0.0</td>\n",
              "      <td>0.420241</td>\n",
              "      <td>0.000000</td>\n",
              "      <td>0.000000</td>\n",
              "      <td>0.0</td>\n",
              "      <td>...</td>\n",
              "      <td>0.000000</td>\n",
              "      <td>0.420241</td>\n",
              "      <td>0.000000</td>\n",
              "      <td>0.000000</td>\n",
              "      <td>0.0</td>\n",
              "      <td>0.0</td>\n",
              "      <td>0.413415</td>\n",
              "      <td>0.0</td>\n",
              "      <td>0.0</td>\n",
              "      <td>0.0</td>\n",
              "    </tr>\n",
              "    <tr>\n",
              "      <th>Botanicals Bio Saffron Dew Youthful Nourishing Day Sustainable Cream 175 G</th>\n",
              "      <td>0.0</td>\n",
              "      <td>0.0</td>\n",
              "      <td>0.0</td>\n",
              "      <td>0.000000</td>\n",
              "      <td>0.000000</td>\n",
              "      <td>0.0</td>\n",
              "      <td>0.000000</td>\n",
              "      <td>0.000000</td>\n",
              "      <td>0.000000</td>\n",
              "      <td>0.0</td>\n",
              "      <td>...</td>\n",
              "      <td>0.393535</td>\n",
              "      <td>0.000000</td>\n",
              "      <td>0.362174</td>\n",
              "      <td>0.362174</td>\n",
              "      <td>0.0</td>\n",
              "      <td>0.0</td>\n",
              "      <td>0.000000</td>\n",
              "      <td>0.0</td>\n",
              "      <td>0.0</td>\n",
              "      <td>0.0</td>\n",
              "    </tr>\n",
              "    <tr>\n",
              "      <th>Moisture Surge Eye 96-Hour Hydro-Filler Concentrate 15 Ml</th>\n",
              "      <td>0.0</td>\n",
              "      <td>0.0</td>\n",
              "      <td>0.0</td>\n",
              "      <td>0.000000</td>\n",
              "      <td>0.000000</td>\n",
              "      <td>0.0</td>\n",
              "      <td>0.000000</td>\n",
              "      <td>0.625912</td>\n",
              "      <td>0.000000</td>\n",
              "      <td>0.0</td>\n",
              "      <td>...</td>\n",
              "      <td>0.000000</td>\n",
              "      <td>0.000000</td>\n",
              "      <td>0.000000</td>\n",
              "      <td>0.000000</td>\n",
              "      <td>0.0</td>\n",
              "      <td>0.0</td>\n",
              "      <td>0.000000</td>\n",
              "      <td>0.0</td>\n",
              "      <td>0.0</td>\n",
              "      <td>0.0</td>\n",
              "    </tr>\n",
              "    <tr>\n",
              "      <th>The Body Shop Vitamin E Range Sustainable Tea Tree Oil For Blemished Skin 20 Ml</th>\n",
              "      <td>0.0</td>\n",
              "      <td>0.0</td>\n",
              "      <td>0.0</td>\n",
              "      <td>0.000000</td>\n",
              "      <td>0.000000</td>\n",
              "      <td>0.0</td>\n",
              "      <td>0.000000</td>\n",
              "      <td>0.000000</td>\n",
              "      <td>0.000000</td>\n",
              "      <td>0.0</td>\n",
              "      <td>...</td>\n",
              "      <td>0.000000</td>\n",
              "      <td>0.000000</td>\n",
              "      <td>0.000000</td>\n",
              "      <td>0.000000</td>\n",
              "      <td>0.0</td>\n",
              "      <td>0.0</td>\n",
              "      <td>0.000000</td>\n",
              "      <td>0.0</td>\n",
              "      <td>0.0</td>\n",
              "      <td>0.0</td>\n",
              "    </tr>\n",
              "  </tbody>\n",
              "</table>\n",
              "<p>10 rows × 47 columns</p>\n",
              "</div>"
            ],
            "text/plain": [
              "                                                    removal  excess  \\\n",
              "product_name                                                          \n",
              "Unisex Pack Of 2 Omega + Repair Cream                   0.0     0.0   \n",
              "Glamveda Women Whipped Vitamin C Mud Masque 40 Gm       0.0     0.0   \n",
              "Neem Tulsi Face Pack - 100 G                            0.0     0.0   \n",
              "Unisex Sustainable Green Tea Set Of Clear Face ...      0.0     0.0   \n",
              "British Rose Fresh Plumping Face Mask 15 Ml             0.0     0.0   \n",
              "Set Of Toner & Eye Gel                                  0.0     0.0   \n",
              "Men Powerwhite Xl Charcoal Mask                         0.0     0.0   \n",
              "Botanicals Bio Saffron Dew Youthful Nourishing ...      0.0     0.0   \n",
              "Moisture Surge Eye 96-Hour Hydro-Filler Concent...      0.0     0.0   \n",
              "The Body Shop Vitamin E Range Sustainable Tea T...      0.0     0.0   \n",
              "\n",
              "                                                    pigmentation  blackheads  \\\n",
              "product_name                                                                   \n",
              "Unisex Pack Of 2 Omega + Repair Cream                        0.0    0.000000   \n",
              "Glamveda Women Whipped Vitamin C Mud Masque 40 Gm            0.0    0.000000   \n",
              "Neem Tulsi Face Pack - 100 G                                 0.0    0.000000   \n",
              "Unisex Sustainable Green Tea Set Of Clear Face ...           0.0    0.481252   \n",
              "British Rose Fresh Plumping Face Mask 15 Ml                  0.0    0.000000   \n",
              "Set Of Toner & Eye Gel                                       0.0    0.000000   \n",
              "Men Powerwhite Xl Charcoal Mask                              0.0    0.000000   \n",
              "Botanicals Bio Saffron Dew Youthful Nourishing ...           0.0    0.000000   \n",
              "Moisture Surge Eye 96-Hour Hydro-Filler Concent...           0.0    0.000000   \n",
              "The Body Shop Vitamin E Range Sustainable Tea T...           0.0    0.000000   \n",
              "\n",
              "                                                        skin  spots       use  \\\n",
              "product_name                                                                    \n",
              "Unisex Pack Of 2 Omega + Repair Cream               0.216360    0.0  0.000000   \n",
              "Glamveda Women Whipped Vitamin C Mud Masque 40 Gm   0.000000    0.0  0.707107   \n",
              "Neem Tulsi Face Pack - 100 G                        0.000000    0.0  0.000000   \n",
              "Unisex Sustainable Green Tea Set Of Clear Face ...  0.000000    0.0  0.000000   \n",
              "British Rose Fresh Plumping Face Mask 15 Ml         0.303306    0.0  0.000000   \n",
              "Set Of Toner & Eye Gel                              0.000000    0.0  0.000000   \n",
              "Men Powerwhite Xl Charcoal Mask                     0.343799    0.0  0.420241   \n",
              "Botanicals Bio Saffron Dew Youthful Nourishing ...  0.000000    0.0  0.000000   \n",
              "Moisture Surge Eye 96-Hour Hydro-Filler Concent...  0.000000    0.0  0.000000   \n",
              "The Body Shop Vitamin E Range Sustainable Tea T...  0.000000    0.0  0.000000   \n",
              "\n",
              "                                                     circles      bags  oily  \\\n",
              "product_name                                                                   \n",
              "Unisex Pack Of 2 Omega + Repair Cream               0.000000  0.000000   0.0   \n",
              "Glamveda Women Whipped Vitamin C Mud Masque 40 Gm   0.000000  0.000000   0.0   \n",
              "Neem Tulsi Face Pack - 100 G                        0.000000  0.000000   0.0   \n",
              "Unisex Sustainable Green Tea Set Of Clear Face ...  0.000000  0.000000   0.0   \n",
              "British Rose Fresh Plumping Face Mask 15 Ml         0.000000  0.000000   0.0   \n",
              "Set Of Toner & Eye Gel                              0.489619  0.545736   0.0   \n",
              "Men Powerwhite Xl Charcoal Mask                     0.000000  0.000000   0.0   \n",
              "Botanicals Bio Saffron Dew Youthful Nourishing ...  0.000000  0.000000   0.0   \n",
              "Moisture Surge Eye 96-Hour Hydro-Filler Concent...  0.625912  0.000000   0.0   \n",
              "The Body Shop Vitamin E Range Sustainable Tea T...  0.000000  0.000000   0.0   \n",
              "\n",
              "                                                    ...      deep     daily  \\\n",
              "product_name                                        ...                       \n",
              "Unisex Pack Of 2 Omega + Repair Cream               ...  0.607194  0.000000   \n",
              "Glamveda Women Whipped Vitamin C Mud Masque 40 Gm   ...  0.000000  0.707107   \n",
              "Neem Tulsi Face Pack - 100 G                        ...  0.000000  0.000000   \n",
              "Unisex Sustainable Green Tea Set Of Clear Face ...  ...  0.000000  0.000000   \n",
              "British Rose Fresh Plumping Face Mask 15 Ml         ...  0.000000  0.000000   \n",
              "Set Of Toner & Eye Gel                              ...  0.000000  0.000000   \n",
              "Men Powerwhite Xl Charcoal Mask                     ...  0.000000  0.420241   \n",
              "Botanicals Bio Saffron Dew Youthful Nourishing ...  ...  0.393535  0.000000   \n",
              "Moisture Surge Eye 96-Hour Hydro-Filler Concent...  ...  0.000000  0.000000   \n",
              "The Body Shop Vitamin E Range Sustainable Tea T...  ...  0.000000  0.000000   \n",
              "\n",
              "                                                    wrinkles      fine  \\\n",
              "product_name                                                             \n",
              "Unisex Pack Of 2 Omega + Repair Cream               0.000000  0.000000   \n",
              "Glamveda Women Whipped Vitamin C Mud Masque 40 Gm   0.000000  0.000000   \n",
              "Neem Tulsi Face Pack - 100 G                        0.000000  0.000000   \n",
              "Unisex Sustainable Green Tea Set Of Clear Face ...  0.000000  0.000000   \n",
              "British Rose Fresh Plumping Face Mask 15 Ml         0.000000  0.000000   \n",
              "Set Of Toner & Eye Gel                              0.000000  0.000000   \n",
              "Men Powerwhite Xl Charcoal Mask                     0.000000  0.000000   \n",
              "Botanicals Bio Saffron Dew Youthful Nourishing ...  0.362174  0.362174   \n",
              "Moisture Surge Eye 96-Hour Hydro-Filler Concent...  0.000000  0.000000   \n",
              "The Body Shop Vitamin E Range Sustainable Tea T...  0.000000  0.000000   \n",
              "\n",
              "                                                    lightening  tightening  \\\n",
              "product_name                                                                 \n",
              "Unisex Pack Of 2 Omega + Repair Cream                      0.0         0.0   \n",
              "Glamveda Women Whipped Vitamin C Mud Masque 40 Gm          0.0         0.0   \n",
              "Neem Tulsi Face Pack - 100 G                               0.0         0.0   \n",
              "Unisex Sustainable Green Tea Set Of Clear Face ...         0.0         0.0   \n",
              "British Rose Fresh Plumping Face Mask 15 Ml                0.0         0.0   \n",
              "Set Of Toner & Eye Gel                                     0.0         0.0   \n",
              "Men Powerwhite Xl Charcoal Mask                            0.0         0.0   \n",
              "Botanicals Bio Saffron Dew Youthful Nourishing ...         0.0         0.0   \n",
              "Moisture Surge Eye 96-Hour Hydro-Filler Concent...         0.0         0.0   \n",
              "The Body Shop Vitamin E Range Sustainable Tea T...         0.0         0.0   \n",
              "\n",
              "                                                        dull  anti  \\\n",
              "product_name                                                         \n",
              "Unisex Pack Of 2 Omega + Repair Cream               0.000000   0.0   \n",
              "Glamveda Women Whipped Vitamin C Mud Masque 40 Gm   0.000000   0.0   \n",
              "Neem Tulsi Face Pack - 100 G                        0.000000   0.0   \n",
              "Unisex Sustainable Green Tea Set Of Clear Face ...  0.000000   0.0   \n",
              "British Rose Fresh Plumping Face Mask 15 Ml         0.000000   0.0   \n",
              "Set Of Toner & Eye Gel                              0.000000   0.0   \n",
              "Men Powerwhite Xl Charcoal Mask                     0.413415   0.0   \n",
              "Botanicals Bio Saffron Dew Youthful Nourishing ...  0.000000   0.0   \n",
              "Moisture Surge Eye 96-Hour Hydro-Filler Concent...  0.000000   0.0   \n",
              "The Body Shop Vitamin E Range Sustainable Tea T...  0.000000   0.0   \n",
              "\n",
              "                                                    inflammation  tan  \n",
              "product_name                                                           \n",
              "Unisex Pack Of 2 Omega + Repair Cream                        0.0  0.0  \n",
              "Glamveda Women Whipped Vitamin C Mud Masque 40 Gm            0.0  0.0  \n",
              "Neem Tulsi Face Pack - 100 G                                 0.0  0.0  \n",
              "Unisex Sustainable Green Tea Set Of Clear Face ...           0.0  0.0  \n",
              "British Rose Fresh Plumping Face Mask 15 Ml                  0.0  0.0  \n",
              "Set Of Toner & Eye Gel                                       0.0  0.0  \n",
              "Men Powerwhite Xl Charcoal Mask                              0.0  0.0  \n",
              "Botanicals Bio Saffron Dew Youthful Nourishing ...           0.0  0.0  \n",
              "Moisture Surge Eye 96-Hour Hydro-Filler Concent...           0.0  0.0  \n",
              "The Body Shop Vitamin E Range Sustainable Tea T...           0.0  0.0  \n",
              "\n",
              "[10 rows x 47 columns]"
            ]
          },
          "execution_count": 26,
          "metadata": {},
          "output_type": "execute_result"
        }
      ],
      "source": [
        "# Making dataframe to see TF-IDF matrix\n",
        "\n",
        "pd.DataFrame(\n",
        "    tfidf_matrix.todense(),\n",
        "    columns=tf.get_feature_names_out(),\n",
        "    index=skincare.product_name\n",
        ").sample(shape[1], axis=1).sample(10, axis=0)"
      ]
    },
    {
      "cell_type": "markdown",
      "metadata": {
        "id": "WEB-9QQ97Ohe"
      },
      "source": [
        "### Cosine Similarity"
      ]
    },
    {
      "cell_type": "code",
      "execution_count": 27,
      "metadata": {
        "colab": {
          "base_uri": "https://localhost:8080/"
        },
        "id": "9WopU7pexaPt",
        "outputId": "8eb95f6f-ae6f-4c0b-f2b3-692f6442f438"
      },
      "outputs": [
        {
          "data": {
            "text/plain": [
              "array([[1.        , 0.        , 0.60934119, ..., 0.        , 0.        ,\n",
              "        0.        ],\n",
              "       [0.        , 1.        , 0.11567078, ..., 0.14754656, 0.11786997,\n",
              "        0.1342682 ],\n",
              "       [0.60934119, 0.11567078, 1.        , ..., 0.        , 0.        ,\n",
              "        0.21511503],\n",
              "       ...,\n",
              "       [0.        , 0.14754656, 0.        , ..., 1.        , 0.79886622,\n",
              "        0.9100056 ],\n",
              "       [0.        , 0.11786997, 0.        , ..., 0.79886622, 1.        ,\n",
              "        0.72697274],\n",
              "       [0.        , 0.1342682 , 0.21511503, ..., 0.9100056 , 0.72697274,\n",
              "        1.        ]])"
            ]
          },
          "execution_count": 27,
          "metadata": {},
          "output_type": "execute_result"
        }
      ],
      "source": [
        "# Calculating Cosine Similarity on the TF-IDF matrix\n",
        "from sklearn.metrics.pairwise import cosine_similarity\n",
        "cosine_sim = cosine_similarity(tfidf_matrix)\n",
        "cosine_sim"
      ]
    },
    {
      "cell_type": "code",
      "execution_count": 28,
      "metadata": {
        "colab": {
          "base_uri": "https://localhost:8080/",
          "height": 481
        },
        "id": "t-sA5tvjDBaX",
        "outputId": "bcdfa5d9-a7e2-4c28-acfb-82bdc452e175"
      },
      "outputs": [
        {
          "data": {
            "text/html": [
              "<div>\n",
              "<style scoped>\n",
              "    .dataframe tbody tr th:only-of-type {\n",
              "        vertical-align: middle;\n",
              "    }\n",
              "\n",
              "    .dataframe tbody tr th {\n",
              "        vertical-align: top;\n",
              "    }\n",
              "\n",
              "    .dataframe thead th {\n",
              "        text-align: right;\n",
              "    }\n",
              "</style>\n",
              "<table border=\"1\" class=\"dataframe\">\n",
              "  <thead>\n",
              "    <tr style=\"text-align: right;\">\n",
              "      <th>product_name</th>\n",
              "      <th>Men Acno Fight Pimple Clearing Whitening Cream 45 G</th>\n",
              "      <th>Men Green Tea Face Wash 120Ml</th>\n",
              "      <th>Set Of Lip Balm &amp; Eye Gel</th>\n",
              "      <th>Espresso Coffee Natural Aha Deep Exfoliation Kit With Hyaluronic Acid</th>\n",
              "      <th>Bio Papaya Visibly Ageless Exfoliating Sustainable Face Wash 150 Ml</th>\n",
              "    </tr>\n",
              "    <tr>\n",
              "      <th>product_name</th>\n",
              "      <th></th>\n",
              "      <th></th>\n",
              "      <th></th>\n",
              "      <th></th>\n",
              "      <th></th>\n",
              "    </tr>\n",
              "  </thead>\n",
              "  <tbody>\n",
              "    <tr>\n",
              "      <th>Daywear Face Moisturiser</th>\n",
              "      <td>0.0</td>\n",
              "      <td>0.000000</td>\n",
              "      <td>0.000000</td>\n",
              "      <td>0.000000</td>\n",
              "      <td>0.000000</td>\n",
              "    </tr>\n",
              "    <tr>\n",
              "      <th>Real Nature Green Tea Face Mask 20 Gm</th>\n",
              "      <td>0.0</td>\n",
              "      <td>0.000000</td>\n",
              "      <td>0.000000</td>\n",
              "      <td>0.000000</td>\n",
              "      <td>0.000000</td>\n",
              "    </tr>\n",
              "    <tr>\n",
              "      <th>Bio Fruit Whitening,Depigmentation &amp; Tan Removal Sustainable Face Pack 100 G</th>\n",
              "      <td>0.0</td>\n",
              "      <td>0.279648</td>\n",
              "      <td>0.000000</td>\n",
              "      <td>0.265338</td>\n",
              "      <td>0.645143</td>\n",
              "    </tr>\n",
              "    <tr>\n",
              "      <th>Morning Nectar Lotion Pack Of 2</th>\n",
              "      <td>0.0</td>\n",
              "      <td>0.000000</td>\n",
              "      <td>0.147547</td>\n",
              "      <td>0.000000</td>\n",
              "      <td>0.562268</td>\n",
              "    </tr>\n",
              "    <tr>\n",
              "      <th>Natural White Light Instant Glowing Fairness Skin Cream With Uv Protection-20Gm</th>\n",
              "      <td>0.0</td>\n",
              "      <td>0.094590</td>\n",
              "      <td>0.000000</td>\n",
              "      <td>0.089749</td>\n",
              "      <td>0.211483</td>\n",
              "    </tr>\n",
              "    <tr>\n",
              "      <th>Women Regenerist Advanced Anti-Ageing Revitalising Night Cream 50 G</th>\n",
              "      <td>0.0</td>\n",
              "      <td>0.000000</td>\n",
              "      <td>0.000000</td>\n",
              "      <td>0.000000</td>\n",
              "      <td>0.000000</td>\n",
              "    </tr>\n",
              "    <tr>\n",
              "      <th>Women Yellow Sunflower &amp; Lemon Grass Oil Brightening &amp; Anti Blemish Face Pack</th>\n",
              "      <td>1.0</td>\n",
              "      <td>0.545918</td>\n",
              "      <td>0.000000</td>\n",
              "      <td>0.517982</td>\n",
              "      <td>0.000000</td>\n",
              "    </tr>\n",
              "    <tr>\n",
              "      <th>Sustainable Rejuvenating And Brightening Ayurvedic Night Cream 50G</th>\n",
              "      <td>0.0</td>\n",
              "      <td>0.000000</td>\n",
              "      <td>0.153293</td>\n",
              "      <td>0.000000</td>\n",
              "      <td>0.000000</td>\n",
              "    </tr>\n",
              "    <tr>\n",
              "      <th>Unisex Rose Herbal Face Mask 50 G</th>\n",
              "      <td>0.0</td>\n",
              "      <td>0.000000</td>\n",
              "      <td>0.000000</td>\n",
              "      <td>0.000000</td>\n",
              "      <td>0.000000</td>\n",
              "    </tr>\n",
              "    <tr>\n",
              "      <th>Beardo Men Neem Face &amp; Beard Wash 100Ml</th>\n",
              "      <td>1.0</td>\n",
              "      <td>0.545918</td>\n",
              "      <td>0.000000</td>\n",
              "      <td>0.517982</td>\n",
              "      <td>0.000000</td>\n",
              "    </tr>\n",
              "  </tbody>\n",
              "</table>\n",
              "</div>"
            ],
            "text/plain": [
              "product_name                                        Men Acno Fight Pimple Clearing Whitening Cream 45 G  \\\n",
              "product_name                                                                                              \n",
              "Daywear Face Moisturiser                                                                          0.0     \n",
              "Real Nature Green Tea Face Mask 20 Gm                                                             0.0     \n",
              "Bio Fruit Whitening,Depigmentation & Tan Remova...                                                0.0     \n",
              "Morning Nectar Lotion Pack Of 2                                                                   0.0     \n",
              "Natural White Light Instant Glowing Fairness Sk...                                                0.0     \n",
              "Women Regenerist Advanced Anti-Ageing Revitalis...                                                0.0     \n",
              "Women Yellow Sunflower & Lemon Grass Oil Bright...                                                1.0     \n",
              "Sustainable Rejuvenating And Brightening Ayurve...                                                0.0     \n",
              "Unisex Rose Herbal Face Mask 50 G                                                                 0.0     \n",
              "Beardo Men Neem Face & Beard Wash 100Ml                                                           1.0     \n",
              "\n",
              "product_name                                        Men Green Tea Face Wash 120Ml  \\\n",
              "product_name                                                                        \n",
              "Daywear Face Moisturiser                                                 0.000000   \n",
              "Real Nature Green Tea Face Mask 20 Gm                                    0.000000   \n",
              "Bio Fruit Whitening,Depigmentation & Tan Remova...                       0.279648   \n",
              "Morning Nectar Lotion Pack Of 2                                          0.000000   \n",
              "Natural White Light Instant Glowing Fairness Sk...                       0.094590   \n",
              "Women Regenerist Advanced Anti-Ageing Revitalis...                       0.000000   \n",
              "Women Yellow Sunflower & Lemon Grass Oil Bright...                       0.545918   \n",
              "Sustainable Rejuvenating And Brightening Ayurve...                       0.000000   \n",
              "Unisex Rose Herbal Face Mask 50 G                                        0.000000   \n",
              "Beardo Men Neem Face & Beard Wash 100Ml                                  0.545918   \n",
              "\n",
              "product_name                                        Set Of Lip Balm & Eye Gel  \\\n",
              "product_name                                                                    \n",
              "Daywear Face Moisturiser                                             0.000000   \n",
              "Real Nature Green Tea Face Mask 20 Gm                                0.000000   \n",
              "Bio Fruit Whitening,Depigmentation & Tan Remova...                   0.000000   \n",
              "Morning Nectar Lotion Pack Of 2                                      0.147547   \n",
              "Natural White Light Instant Glowing Fairness Sk...                   0.000000   \n",
              "Women Regenerist Advanced Anti-Ageing Revitalis...                   0.000000   \n",
              "Women Yellow Sunflower & Lemon Grass Oil Bright...                   0.000000   \n",
              "Sustainable Rejuvenating And Brightening Ayurve...                   0.153293   \n",
              "Unisex Rose Herbal Face Mask 50 G                                    0.000000   \n",
              "Beardo Men Neem Face & Beard Wash 100Ml                              0.000000   \n",
              "\n",
              "product_name                                        Espresso Coffee Natural Aha Deep Exfoliation Kit With Hyaluronic Acid  \\\n",
              "product_name                                                                                                                \n",
              "Daywear Face Moisturiser                                                                     0.000000                       \n",
              "Real Nature Green Tea Face Mask 20 Gm                                                        0.000000                       \n",
              "Bio Fruit Whitening,Depigmentation & Tan Remova...                                           0.265338                       \n",
              "Morning Nectar Lotion Pack Of 2                                                              0.000000                       \n",
              "Natural White Light Instant Glowing Fairness Sk...                                           0.089749                       \n",
              "Women Regenerist Advanced Anti-Ageing Revitalis...                                           0.000000                       \n",
              "Women Yellow Sunflower & Lemon Grass Oil Bright...                                           0.517982                       \n",
              "Sustainable Rejuvenating And Brightening Ayurve...                                           0.000000                       \n",
              "Unisex Rose Herbal Face Mask 50 G                                                            0.000000                       \n",
              "Beardo Men Neem Face & Beard Wash 100Ml                                                      0.517982                       \n",
              "\n",
              "product_name                                        Bio Papaya Visibly Ageless Exfoliating Sustainable Face Wash 150 Ml  \n",
              "product_name                                                                                                             \n",
              "Daywear Face Moisturiser                                                                     0.000000                    \n",
              "Real Nature Green Tea Face Mask 20 Gm                                                        0.000000                    \n",
              "Bio Fruit Whitening,Depigmentation & Tan Remova...                                           0.645143                    \n",
              "Morning Nectar Lotion Pack Of 2                                                              0.562268                    \n",
              "Natural White Light Instant Glowing Fairness Sk...                                           0.211483                    \n",
              "Women Regenerist Advanced Anti-Ageing Revitalis...                                           0.000000                    \n",
              "Women Yellow Sunflower & Lemon Grass Oil Bright...                                           0.000000                    \n",
              "Sustainable Rejuvenating And Brightening Ayurve...                                           0.000000                    \n",
              "Unisex Rose Herbal Face Mask 50 G                                                            0.000000                    \n",
              "Beardo Men Neem Face & Beard Wash 100Ml                                                      0.000000                    "
            ]
          },
          "execution_count": 28,
          "metadata": {},
          "output_type": "execute_result"
        }
      ],
      "source": [
        "# Creating a dataframe from the cosine_similarity variable with rows and columns in the form of product names\n",
        "cosine_sim_df = pd.DataFrame(cosine_sim, index=skincare['product_name'], columns=skincare['product_name'])\n",
        "\n",
        "# See the similarity matrix for each product\n",
        "cosine_sim_df.sample(5, axis=1).sample(10, axis=0)"
      ]
    },
    {
      "cell_type": "markdown",
      "metadata": {
        "id": "kTTfgn5f7Ohi"
      },
      "source": [
        "### Generating the Recommendation"
      ]
    },
    {
      "cell_type": "code",
      "execution_count": 29,
      "metadata": {
        "id": "h7C_-X2nDbDz"
      },
      "outputs": [],
      "source": [
        "def skincare_recommendations(product_itemname, similarity_data=cosine_sim_df, items=skincare[['product_name', 'notable_effects']], k=5):\n",
        "\n",
        "    # Find the index of the top k most similar products to the input product\n",
        "    # Convert DataFrame to numpy array and use argpartition for efficient sorting\n",
        "    # Range(start, stop, step)\n",
        "    index = similarity_data.loc[:,product_itemname].to_numpy().argpartition(\n",
        "        range(-1, -k, -1))\n",
        "\n",
        "    # Retrieve data with the greatest similarity from the existing index\n",
        "    recommended_products = similarity_data.columns[index[-1:-(k+2):-1]]\n",
        "\n",
        "    # Drop a name so that the name of the product we are looking for doesn't appear in the list of recommendations\n",
        "    recommended_products = recommended_products.drop(product_itemname, errors='ignore')\n",
        "\n",
        "    return pd.DataFrame(recommended_products).merge(items).head(k)"
      ]
    },
    {
      "cell_type": "code",
      "execution_count": 30,
      "metadata": {
        "colab": {
          "base_uri": "https://localhost:8080/",
          "height": 170
        },
        "id": "G5bv7bCdymPx",
        "outputId": "ae7dd321-23da-4e30-9fd6-17553659c0d3"
      },
      "outputs": [
        {
          "data": {
            "text/html": [
              "<div>\n",
              "<style scoped>\n",
              "    .dataframe tbody tr th:only-of-type {\n",
              "        vertical-align: middle;\n",
              "    }\n",
              "\n",
              "    .dataframe tbody tr th {\n",
              "        vertical-align: top;\n",
              "    }\n",
              "\n",
              "    .dataframe thead th {\n",
              "        text-align: right;\n",
              "    }\n",
              "</style>\n",
              "<table border=\"1\" class=\"dataframe\">\n",
              "  <thead>\n",
              "    <tr style=\"text-align: right;\">\n",
              "      <th></th>\n",
              "      <th>product_href</th>\n",
              "      <th>product_name</th>\n",
              "      <th>product_type</th>\n",
              "      <th>brand</th>\n",
              "      <th>notable_effects</th>\n",
              "      <th>skintype</th>\n",
              "      <th>price</th>\n",
              "      <th>picture_src</th>\n",
              "      <th>labels</th>\n",
              "      <th>Oily</th>\n",
              "      <th>Sensitive</th>\n",
              "      <th>Combination</th>\n",
              "      <th>Dry</th>\n",
              "      <th>Normal</th>\n",
              "      <th>All</th>\n",
              "    </tr>\n",
              "  </thead>\n",
              "  <tbody>\n",
              "    <tr>\n",
              "      <th>0</th>\n",
              "      <td>https://www.myntra.com/Face Moisturizer/lakme/...</td>\n",
              "      <td>Absolute Perfect Radiance Skin Lightening Day ...</td>\n",
              "      <td>Face Moisturizer</td>\n",
              "      <td>Lakme</td>\n",
              "      <td>General Care</td>\n",
              "      <td>Combination</td>\n",
              "      <td>Rs. 94</td>\n",
              "      <td>https://assets.myntassets.com/h_720,q_90,w_540...</td>\n",
              "      <td>232</td>\n",
              "      <td>0</td>\n",
              "      <td>0</td>\n",
              "      <td>1</td>\n",
              "      <td>0</td>\n",
              "      <td>0</td>\n",
              "      <td>0</td>\n",
              "    </tr>\n",
              "  </tbody>\n",
              "</table>\n",
              "</div>"
            ],
            "text/plain": [
              "                                        product_href  \\\n",
              "0  https://www.myntra.com/Face Moisturizer/lakme/...   \n",
              "\n",
              "                                        product_name      product_type  brand  \\\n",
              "0  Absolute Perfect Radiance Skin Lightening Day ...  Face Moisturizer  Lakme   \n",
              "\n",
              "  notable_effects     skintype   price  \\\n",
              "0    General Care  Combination  Rs. 94   \n",
              "\n",
              "                                         picture_src  labels  Oily  Sensitive  \\\n",
              "0  https://assets.myntassets.com/h_720,q_90,w_540...     232     0          0   \n",
              "\n",
              "   Combination  Dry  Normal  All  \n",
              "0            1    0       0    0  "
            ]
          },
          "execution_count": 30,
          "metadata": {},
          "output_type": "execute_result"
        }
      ],
      "source": [
        "skincare[skincare.product_name.eq('Absolute Perfect Radiance Skin Lightening Day Creme 15G')].head()"
      ]
    },
    {
      "cell_type": "markdown",
      "metadata": {
        "id": "QA4tKJbgr4dj"
      },
      "source": [
        "Trying to test the model by getting recommendation"
      ]
    },
    {
      "cell_type": "code",
      "execution_count": 31,
      "metadata": {
        "colab": {
          "base_uri": "https://localhost:8080/",
          "height": 206
        },
        "id": "1e-Aq6cKDkj7",
        "outputId": "e0cb3561-b0b0-4378-9a4b-76feb4d46dcc"
      },
      "outputs": [
        {
          "data": {
            "text/html": [
              "<div>\n",
              "<style scoped>\n",
              "    .dataframe tbody tr th:only-of-type {\n",
              "        vertical-align: middle;\n",
              "    }\n",
              "\n",
              "    .dataframe tbody tr th {\n",
              "        vertical-align: top;\n",
              "    }\n",
              "\n",
              "    .dataframe thead th {\n",
              "        text-align: right;\n",
              "    }\n",
              "</style>\n",
              "<table border=\"1\" class=\"dataframe\">\n",
              "  <thead>\n",
              "    <tr style=\"text-align: right;\">\n",
              "      <th></th>\n",
              "      <th>product_name</th>\n",
              "      <th>notable_effects</th>\n",
              "    </tr>\n",
              "  </thead>\n",
              "  <tbody>\n",
              "    <tr>\n",
              "      <th>0</th>\n",
              "      <td>Pack Of 4 Aloe Aqua Face Wash + Makeup Remover...</td>\n",
              "      <td>General Care</td>\n",
              "    </tr>\n",
              "    <tr>\n",
              "      <th>1</th>\n",
              "      <td>Men Power White Anti-Dark Cells Fairness Face ...</td>\n",
              "      <td>General Care</td>\n",
              "    </tr>\n",
              "    <tr>\n",
              "      <th>2</th>\n",
              "      <td>Gentle &amp; Soft Deep Pore Cleanser</td>\n",
              "      <td>General Care</td>\n",
              "    </tr>\n",
              "    <tr>\n",
              "      <th>3</th>\n",
              "      <td>Skin Naturals Micellar Cleansing Water 125 Ml</td>\n",
              "      <td>General Care</td>\n",
              "    </tr>\n",
              "    <tr>\n",
              "      <th>4</th>\n",
              "      <td>Hydra Cleanser - 120 Ml</td>\n",
              "      <td>General Care</td>\n",
              "    </tr>\n",
              "  </tbody>\n",
              "</table>\n",
              "</div>"
            ],
            "text/plain": [
              "                                        product_name notable_effects\n",
              "0  Pack Of 4 Aloe Aqua Face Wash + Makeup Remover...    General Care\n",
              "1  Men Power White Anti-Dark Cells Fairness Face ...    General Care\n",
              "2                   Gentle & Soft Deep Pore Cleanser    General Care\n",
              "3      Skin Naturals Micellar Cleansing Water 125 Ml    General Care\n",
              "4                            Hydra Cleanser - 120 Ml    General Care"
            ]
          },
          "execution_count": 31,
          "metadata": {},
          "output_type": "execute_result"
        }
      ],
      "source": [
        " # Getting skin care product recommendation which are similar to the product\n",
        "skincare_recommendations(\"Absolute Perfect Radiance Skin Lightening Day Creme 15G\")"
      ]
    }
  ],
  "metadata": {
    "colab": {
      "provenance": []
    },
    "kernelspec": {
      "display_name": "Python 3",
      "name": "python3"
    },
    "language_info": {
      "codemirror_mode": {
        "name": "ipython",
        "version": 3
      },
      "file_extension": ".py",
      "mimetype": "text/x-python",
      "name": "python",
      "nbconvert_exporter": "python",
      "pygments_lexer": "ipython3",
      "version": "3.11.1"
    }
  },
  "nbformat": 4,
  "nbformat_minor": 0
}
